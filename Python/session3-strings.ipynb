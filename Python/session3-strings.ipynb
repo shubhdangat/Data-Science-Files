{
 "cells": [
  {
   "cell_type": "markdown",
   "id": "0dcf414a",
   "metadata": {},
   "source": [
    "## Program - The current population of a town is 10000. The population of the town is increasing at the rate of 10% per year. You have to write a program to find out the population at the end of each of the last 10 years."
   ]
  },
  {
   "cell_type": "code",
   "execution_count": 2,
   "id": "1b8a1dea",
   "metadata": {},
   "outputs": [
    {
     "name": "stdout",
     "output_type": "stream",
     "text": [
      "10 10000\n",
      "9 9090.91\n",
      "8 8264.46\n",
      "7 7513.15\n",
      "6 6830.13\n",
      "5 6209.21\n",
      "4 5644.74\n",
      "3 5131.58\n",
      "2 4665.07\n",
      "1 4240.98\n"
     ]
    }
   ],
   "source": [
    "# Code here\n",
    "curr_pop = 10000\n",
    "\n",
    "for i in range(10,0,-1):\n",
    "    print(i,round(curr_pop,2))\n",
    "    curr_pop = curr_pop/1.1"
   ]
  },
  {
   "cell_type": "markdown",
   "id": "3c85cb70",
   "metadata": {},
   "source": [
    "## Sequence sum\n",
    "\n",
    "### 1/1! + 2/2! + 3/3! + ...."
   ]
  },
  {
   "cell_type": "code",
   "execution_count": 6,
   "id": "059dcccb",
   "metadata": {},
   "outputs": [
    {
     "name": "stdout",
     "output_type": "stream",
     "text": [
      "enter n 2\n",
      "2.0\n"
     ]
    }
   ],
   "source": [
    "n = int(input('enter n '))\n",
    "\n",
    "result = 0\n",
    "fact = 1\n",
    "\n",
    "for i in range(1,n+1):\n",
    "    fact = fact * i\n",
    "    result = result + i/fact\n",
    "    \n",
    "print(result)"
   ]
  },
  {
   "cell_type": "markdown",
   "id": "c336bbcc",
   "metadata": {},
   "source": [
    "# Nestes Loops"
   ]
  },
  {
   "cell_type": "code",
   "execution_count": 7,
   "id": "dd7d33ff",
   "metadata": {},
   "outputs": [
    {
     "name": "stdout",
     "output_type": "stream",
     "text": [
      "1 1\n",
      "1 2\n",
      "1 3\n",
      "1 4\n",
      "2 1\n",
      "2 2\n",
      "2 3\n",
      "2 4\n",
      "3 1\n",
      "3 2\n",
      "3 3\n",
      "3 4\n",
      "4 1\n",
      "4 2\n",
      "4 3\n",
      "4 4\n"
     ]
    }
   ],
   "source": [
    "# Examples -> unique pairs\n",
    "\n",
    "for i in range(1,5):\n",
    "    for j in range(1,5):\n",
    "        print(i,j)"
   ]
  },
  {
   "cell_type": "markdown",
   "id": "95bcdade",
   "metadata": {},
   "source": [
    "# Pattern 1\n",
    "\n",
    "#### * \n",
    "#### **\n",
    "#### ***"
   ]
  },
  {
   "cell_type": "code",
   "execution_count": 11,
   "id": "31e964fd",
   "metadata": {},
   "outputs": [
    {
     "name": "stdout",
     "output_type": "stream",
     "text": [
      "enter number of rows : 5\n",
      "*\n",
      "**\n",
      "***\n",
      "****\n",
      "*****\n"
     ]
    }
   ],
   "source": [
    "# Code here\n",
    "\n",
    "rows = int(input('enter number of rows : '))\n",
    "\n",
    "for i in range(1, rows+1):\n",
    "    for j in range(1, i+1):\n",
    "        print('*',end='')\n",
    "    print()"
   ]
  },
  {
   "cell_type": "markdown",
   "id": "0347ed8f",
   "metadata": {},
   "source": [
    "# Pattern 2 \n",
    "\n",
    "```\n",
    "1\n",
    "121\n",
    "12321\n",
    "1234321\n",
    "```"
   ]
  },
  {
   "cell_type": "code",
   "execution_count": 14,
   "id": "a533030a",
   "metadata": {},
   "outputs": [
    {
     "name": "stdout",
     "output_type": "stream",
     "text": [
      "enter number of rows : 4\n",
      "1\n",
      "121\n",
      "12321\n",
      "1234321\n"
     ]
    }
   ],
   "source": [
    "# code here\n",
    "\n",
    "rows = int(input('enter number of rows : '))\n",
    "\n",
    "for i in range(1,rows+1):\n",
    "    for j in range(1,i+1):\n",
    "        print(j,end='')\n",
    "    for k in range(i-1,0,-1):\n",
    "        print(k,end='')\n",
    "    \n",
    "    print()"
   ]
  },
  {
   "cell_type": "markdown",
   "id": "bec4d631",
   "metadata": {},
   "source": [
    "# Loop Control statment\n",
    "\n",
    "   * Break\n",
    "   * Continue\n",
    "   * Pass "
   ]
  },
  {
   "cell_type": "code",
   "execution_count": 16,
   "id": "546c2e8a",
   "metadata": {},
   "outputs": [
    {
     "name": "stdout",
     "output_type": "stream",
     "text": [
      "1\n",
      "2\n",
      "3\n",
      "4\n"
     ]
    }
   ],
   "source": [
    "for i in range(1,10):\n",
    "    if i == 5:\n",
    "        break\n",
    "    print(i)"
   ]
  },
  {
   "cell_type": "code",
   "execution_count": 17,
   "id": "7395d29d",
   "metadata": {},
   "outputs": [
    {
     "name": "stdout",
     "output_type": "stream",
     "text": [
      "enter lower range : 10\n",
      "enter upper range : 100\n",
      "11\n",
      "13\n",
      "17\n",
      "19\n",
      "23\n",
      "29\n",
      "31\n",
      "37\n",
      "41\n",
      "43\n",
      "47\n",
      "53\n",
      "59\n",
      "61\n",
      "67\n",
      "71\n",
      "73\n",
      "79\n",
      "83\n",
      "89\n",
      "97\n"
     ]
    }
   ],
   "source": [
    "lower = int(input('enter lower range : '))\n",
    "upper = int(input('enter upper range : '))\n",
    "\n",
    "for i in range(lower, upper+1):\n",
    "    for j in range(2, i):\n",
    "        if i%j == 0:\n",
    "            break\n",
    "    else:\n",
    "        print(i)"
   ]
  },
  {
   "cell_type": "markdown",
   "id": "a746af1a",
   "metadata": {},
   "source": [
    "# Continue Statement"
   ]
  },
  {
   "cell_type": "code",
   "execution_count": 18,
   "id": "218634d7",
   "metadata": {},
   "outputs": [
    {
     "name": "stdout",
     "output_type": "stream",
     "text": [
      "1\n",
      "2\n",
      "3\n",
      "4\n",
      "6\n",
      "7\n",
      "8\n",
      "9\n"
     ]
    }
   ],
   "source": [
    "# Continue\n",
    "\n",
    "for i in range(1,10):\n",
    "    if i == 5:\n",
    "        continue\n",
    "    print(i)"
   ]
  },
  {
   "cell_type": "markdown",
   "id": "273cd651",
   "metadata": {},
   "source": [
    "# Pass Statment"
   ]
  },
  {
   "cell_type": "code",
   "execution_count": 20,
   "id": "386e95f0",
   "metadata": {},
   "outputs": [],
   "source": [
    "for i in range(1,10):\n",
    "    pass\n",
    "    "
   ]
  },
  {
   "cell_type": "markdown",
   "id": "cff75d18",
   "metadata": {},
   "source": [
    "# Strings"
   ]
  },
  {
   "cell_type": "markdown",
   "id": "9e57cad8",
   "metadata": {},
   "source": [
    "Strings are sequence of characters\n",
    "\n",
    "In Python specifically, strings are a sequence of Unicode Characters\n",
    "\n",
    "   * Creating String\n",
    "   * Accessing String \n",
    "   * Adding Chars to Strings\n",
    "   * Editing Strings\n",
    "   * Deleting Strings\n",
    "   * Operations on Strings\n",
    "   * String Functions"
   ]
  },
  {
   "cell_type": "markdown",
   "id": "3d0a9afb",
   "metadata": {},
   "source": [
    "# Creating String"
   ]
  },
  {
   "cell_type": "code",
   "execution_count": 21,
   "id": "c8f16500",
   "metadata": {},
   "outputs": [
    {
     "name": "stdout",
     "output_type": "stream",
     "text": [
      "Hello\n"
     ]
    }
   ],
   "source": [
    "s = 'Hello'\n",
    "print(s)"
   ]
  },
  {
   "cell_type": "code",
   "execution_count": 22,
   "id": "cf70b24d",
   "metadata": {},
   "outputs": [
    {
     "name": "stdout",
     "output_type": "stream",
     "text": [
      "Hello\n"
     ]
    }
   ],
   "source": [
    "s = \"Hello\"\n",
    "print(s)"
   ]
  },
  {
   "cell_type": "code",
   "execution_count": 25,
   "id": "b85bd751",
   "metadata": {},
   "outputs": [
    {
     "name": "stdout",
     "output_type": "stream",
     "text": [
      "Hello\n"
     ]
    }
   ],
   "source": [
    "# multi-line Strings\n",
    "\n",
    "s = \"\"\"Hello\"\"\"\n",
    "print(s)"
   ]
  },
  {
   "cell_type": "code",
   "execution_count": 26,
   "id": "7ba78682",
   "metadata": {},
   "outputs": [
    {
     "name": "stdout",
     "output_type": "stream",
     "text": [
      "Hello\n"
     ]
    }
   ],
   "source": [
    "s = '''Hello'''\n",
    "print(s)"
   ]
  },
  {
   "cell_type": "code",
   "execution_count": 27,
   "id": "473d3f29",
   "metadata": {},
   "outputs": [
    {
     "name": "stdout",
     "output_type": "stream",
     "text": [
      "hello\n"
     ]
    }
   ],
   "source": [
    "s = str('hello')\n",
    "print(s)"
   ]
  },
  {
   "cell_type": "code",
   "execution_count": 24,
   "id": "28201a5c",
   "metadata": {},
   "outputs": [
    {
     "data": {
      "text/plain": [
       "\"it's raining outside\""
      ]
     },
     "execution_count": 24,
     "metadata": {},
     "output_type": "execute_result"
    }
   ],
   "source": [
    "\"it's raining outside\""
   ]
  },
  {
   "cell_type": "markdown",
   "id": "12ce951e",
   "metadata": {},
   "source": [
    "# Accessing Substrings from a string"
   ]
  },
  {
   "cell_type": "code",
   "execution_count": 28,
   "id": "313dc602",
   "metadata": {},
   "outputs": [
    {
     "name": "stdout",
     "output_type": "stream",
     "text": [
      "h\n"
     ]
    }
   ],
   "source": [
    "# Indexing \n",
    "s = 'hello world'\n",
    "print(s[0])"
   ]
  },
  {
   "cell_type": "code",
   "execution_count": 30,
   "id": "cbc6d120",
   "metadata": {},
   "outputs": [
    {
     "name": "stdout",
     "output_type": "stream",
     "text": [
      "r\n"
     ]
    }
   ],
   "source": [
    "# negative indexing\n",
    "\n",
    "s = 'hello world'\n",
    "print(s[-3])"
   ]
  },
  {
   "cell_type": "code",
   "execution_count": 32,
   "id": "a3b47433",
   "metadata": {},
   "outputs": [
    {
     "name": "stdout",
     "output_type": "stream",
     "text": [
      "hello\n"
     ]
    }
   ],
   "source": [
    "# Slicing\n",
    "\n",
    "s = 'hello world'\n",
    "print(s[0:5])"
   ]
  },
  {
   "cell_type": "code",
   "execution_count": 33,
   "id": "6534c366",
   "metadata": {},
   "outputs": [
    {
     "name": "stdout",
     "output_type": "stream",
     "text": [
      "l\n"
     ]
    }
   ],
   "source": [
    "s = 'hello world'\n",
    "print(s[2:3])"
   ]
  },
  {
   "cell_type": "code",
   "execution_count": 34,
   "id": "96871aa5",
   "metadata": {},
   "outputs": [
    {
     "name": "stdout",
     "output_type": "stream",
     "text": [
      "llo world\n"
     ]
    }
   ],
   "source": [
    "s = 'hello world'\n",
    "print(s[2:])"
   ]
  },
  {
   "cell_type": "code",
   "execution_count": 35,
   "id": "579461f7",
   "metadata": {},
   "outputs": [
    {
     "name": "stdout",
     "output_type": "stream",
     "text": [
      "hel\n"
     ]
    }
   ],
   "source": [
    "s = 'hello world'\n",
    "print(s[:3])"
   ]
  },
  {
   "cell_type": "code",
   "execution_count": 36,
   "id": "c98d43fe",
   "metadata": {},
   "outputs": [
    {
     "name": "stdout",
     "output_type": "stream",
     "text": [
      "hello world\n"
     ]
    }
   ],
   "source": [
    "s = 'hello world'\n",
    "print(s[:])"
   ]
  },
  {
   "cell_type": "code",
   "execution_count": 37,
   "id": "c258c895",
   "metadata": {},
   "outputs": [
    {
     "name": "stdout",
     "output_type": "stream",
     "text": [
      "hlo\n"
     ]
    }
   ],
   "source": [
    "s = 'hello world'\n",
    "print(s[0:6:2])"
   ]
  },
  {
   "cell_type": "code",
   "execution_count": 38,
   "id": "102e1050",
   "metadata": {},
   "outputs": [
    {
     "name": "stdout",
     "output_type": "stream",
     "text": [
      "hl\n"
     ]
    }
   ],
   "source": [
    "s = 'hello world'\n",
    "print(s[0:6:3])"
   ]
  },
  {
   "cell_type": "code",
   "execution_count": 39,
   "id": "0170864a",
   "metadata": {},
   "outputs": [
    {
     "name": "stdout",
     "output_type": "stream",
     "text": [
      "w olle\n"
     ]
    }
   ],
   "source": [
    "s = 'hello world'\n",
    "print(s[6:0:-1])"
   ]
  },
  {
   "cell_type": "code",
   "execution_count": 40,
   "id": "6ea5e827",
   "metadata": {},
   "outputs": [
    {
     "name": "stdout",
     "output_type": "stream",
     "text": [
      "wol\n"
     ]
    }
   ],
   "source": [
    "s = 'hello world'\n",
    "print(s[6:0:-2])"
   ]
  },
  {
   "cell_type": "code",
   "execution_count": 41,
   "id": "e2ed544a",
   "metadata": {},
   "outputs": [
    {
     "name": "stdout",
     "output_type": "stream",
     "text": [
      "dlrow olleh\n"
     ]
    }
   ],
   "source": [
    "print(s[::-1])"
   ]
  },
  {
   "cell_type": "code",
   "execution_count": 43,
   "id": "842a26f3",
   "metadata": {},
   "outputs": [
    {
     "name": "stdout",
     "output_type": "stream",
     "text": [
      "world\n"
     ]
    }
   ],
   "source": [
    "s = 'hello world'\n",
    "print(s[-5:])"
   ]
  },
  {
   "cell_type": "code",
   "execution_count": 44,
   "id": "ea7c9de5",
   "metadata": {},
   "outputs": [
    {
     "name": "stdout",
     "output_type": "stream",
     "text": [
      "dlrow\n"
     ]
    }
   ],
   "source": [
    "s = 'hello world'\n",
    "print(s[-1:-6:-1])"
   ]
  },
  {
   "cell_type": "markdown",
   "id": "7f0044f5",
   "metadata": {},
   "source": [
    "# Editing and Deleting in Strings"
   ]
  },
  {
   "cell_type": "code",
   "execution_count": 45,
   "id": "0fae4efa",
   "metadata": {},
   "outputs": [
    {
     "ename": "TypeError",
     "evalue": "'str' object does not support item assignment",
     "output_type": "error",
     "traceback": [
      "\u001b[1;31m---------------------------------------------------------------------------\u001b[0m",
      "\u001b[1;31mTypeError\u001b[0m                                 Traceback (most recent call last)",
      "Cell \u001b[1;32mIn[45], line 2\u001b[0m\n\u001b[0;32m      1\u001b[0m s \u001b[38;5;241m=\u001b[39m \u001b[38;5;124m'\u001b[39m\u001b[38;5;124mhello world\u001b[39m\u001b[38;5;124m'\u001b[39m\n\u001b[1;32m----> 2\u001b[0m s[\u001b[38;5;241m0\u001b[39m] \u001b[38;5;241m=\u001b[39m \u001b[38;5;124m'\u001b[39m\u001b[38;5;124mH\u001b[39m\u001b[38;5;124m'\u001b[39m\n",
      "\u001b[1;31mTypeError\u001b[0m: 'str' object does not support item assignment"
     ]
    }
   ],
   "source": [
    "s = 'hello world'\n",
    "s[0] = 'H'\n",
    "\n",
    "# Python strings are immutable"
   ]
  },
  {
   "cell_type": "code",
   "execution_count": 46,
   "id": "4de2226a",
   "metadata": {},
   "outputs": [
    {
     "ename": "NameError",
     "evalue": "name 's' is not defined",
     "output_type": "error",
     "traceback": [
      "\u001b[1;31m---------------------------------------------------------------------------\u001b[0m",
      "\u001b[1;31mNameError\u001b[0m                                 Traceback (most recent call last)",
      "Cell \u001b[1;32mIn[46], line 3\u001b[0m\n\u001b[0;32m      1\u001b[0m s \u001b[38;5;241m=\u001b[39m \u001b[38;5;124m'\u001b[39m\u001b[38;5;124mhello world\u001b[39m\u001b[38;5;124m'\u001b[39m\n\u001b[0;32m      2\u001b[0m \u001b[38;5;28;01mdel\u001b[39;00m s\n\u001b[1;32m----> 3\u001b[0m \u001b[38;5;28mprint\u001b[39m(s)\n",
      "\u001b[1;31mNameError\u001b[0m: name 's' is not defined"
     ]
    }
   ],
   "source": [
    "s = 'hello world'\n",
    "del s\n",
    "print(s)"
   ]
  },
  {
   "cell_type": "code",
   "execution_count": 47,
   "id": "b81c4d3e",
   "metadata": {},
   "outputs": [
    {
     "ename": "TypeError",
     "evalue": "'str' object does not support item deletion",
     "output_type": "error",
     "traceback": [
      "\u001b[1;31m---------------------------------------------------------------------------\u001b[0m",
      "\u001b[1;31mTypeError\u001b[0m                                 Traceback (most recent call last)",
      "Cell \u001b[1;32mIn[47], line 2\u001b[0m\n\u001b[0;32m      1\u001b[0m s \u001b[38;5;241m=\u001b[39m \u001b[38;5;124m'\u001b[39m\u001b[38;5;124mhello world\u001b[39m\u001b[38;5;124m'\u001b[39m\n\u001b[1;32m----> 2\u001b[0m \u001b[38;5;28;01mdel\u001b[39;00m s[\u001b[38;5;241m-\u001b[39m\u001b[38;5;241m1\u001b[39m:\u001b[38;5;241m-\u001b[39m\u001b[38;5;241m5\u001b[39m:\u001b[38;5;241m2\u001b[39m]\n\u001b[0;32m      3\u001b[0m \u001b[38;5;28mprint\u001b[39m(s)\n",
      "\u001b[1;31mTypeError\u001b[0m: 'str' object does not support item deletion"
     ]
    }
   ],
   "source": [
    "s = 'hello world'\n",
    "del s[-1:-5:2]\n",
    "print(s)"
   ]
  },
  {
   "cell_type": "markdown",
   "id": "c7fa11c6",
   "metadata": {},
   "source": [
    "# Operations on strings"
   ]
  },
  {
   "cell_type": "markdown",
   "id": "9f13dd9a",
   "metadata": {},
   "source": [
    "   * Arithmatic Operations\n",
    "   * Relational Operations\n",
    "   * Logical Operations\n",
    "   * Loops on Strings\n",
    "   * Membership Operations"
   ]
  },
  {
   "cell_type": "code",
   "execution_count": 48,
   "id": "48a93c6a",
   "metadata": {},
   "outputs": [
    {
     "name": "stdout",
     "output_type": "stream",
     "text": [
      "delhimumbai\n"
     ]
    }
   ],
   "source": [
    "print('delhi' + 'mumbai')"
   ]
  },
  {
   "cell_type": "code",
   "execution_count": 49,
   "id": "bd8129d7",
   "metadata": {},
   "outputs": [
    {
     "name": "stdout",
     "output_type": "stream",
     "text": [
      "delhi mumbai\n"
     ]
    }
   ],
   "source": [
    "print('delhi'+ ' ' +'mumbai')"
   ]
  },
  {
   "cell_type": "code",
   "execution_count": 52,
   "id": "05470cf6",
   "metadata": {},
   "outputs": [
    {
     "name": "stdout",
     "output_type": "stream",
     "text": [
      "delhidelhidelhidelhidelhi\n"
     ]
    }
   ],
   "source": [
    "print('delhi'*5)"
   ]
  },
  {
   "cell_type": "code",
   "execution_count": 54,
   "id": "d851a308",
   "metadata": {},
   "outputs": [
    {
     "name": "stdout",
     "output_type": "stream",
     "text": [
      "**************************************************\n"
     ]
    }
   ],
   "source": [
    "print(\"*\"*50)"
   ]
  },
  {
   "cell_type": "code",
   "execution_count": 55,
   "id": "9fcb7511",
   "metadata": {},
   "outputs": [
    {
     "data": {
      "text/plain": [
       "True"
      ]
     },
     "execution_count": 55,
     "metadata": {},
     "output_type": "execute_result"
    }
   ],
   "source": [
    "'delhi' == 'delhi'"
   ]
  },
  {
   "cell_type": "code",
   "execution_count": 56,
   "id": "8a118526",
   "metadata": {},
   "outputs": [
    {
     "data": {
      "text/plain": [
       "False"
      ]
     },
     "execution_count": 56,
     "metadata": {},
     "output_type": "execute_result"
    }
   ],
   "source": [
    "'delhi' != 'delhi'"
   ]
  },
  {
   "cell_type": "code",
   "execution_count": 57,
   "id": "de34971c",
   "metadata": {},
   "outputs": [
    {
     "data": {
      "text/plain": [
       "False"
      ]
     },
     "execution_count": 57,
     "metadata": {},
     "output_type": "execute_result"
    }
   ],
   "source": [
    "'mumbai' > 'pune'\n",
    "# lexiographically"
   ]
  },
  {
   "cell_type": "code",
   "execution_count": 58,
   "id": "817b1bc8",
   "metadata": {},
   "outputs": [
    {
     "data": {
      "text/plain": [
       "False"
      ]
     },
     "execution_count": 58,
     "metadata": {},
     "output_type": "execute_result"
    }
   ],
   "source": [
    "'Pune' > 'pune'"
   ]
  },
  {
   "cell_type": "code",
   "execution_count": 59,
   "id": "87132608",
   "metadata": {},
   "outputs": [
    {
     "data": {
      "text/plain": [
       "'world'"
      ]
     },
     "execution_count": 59,
     "metadata": {},
     "output_type": "execute_result"
    }
   ],
   "source": [
    "'hello' and 'world'"
   ]
  },
  {
   "cell_type": "code",
   "execution_count": 60,
   "id": "f0f6acc3",
   "metadata": {},
   "outputs": [
    {
     "data": {
      "text/plain": [
       "'hello'"
      ]
     },
     "execution_count": 60,
     "metadata": {},
     "output_type": "execute_result"
    }
   ],
   "source": [
    "'hello' or 'world'"
   ]
  },
  {
   "cell_type": "code",
   "execution_count": 62,
   "id": "66f123d4",
   "metadata": {},
   "outputs": [
    {
     "data": {
      "text/plain": [
       "''"
      ]
     },
     "execution_count": 62,
     "metadata": {},
     "output_type": "execute_result"
    }
   ],
   "source": [
    "'' and 'world'"
   ]
  },
  {
   "cell_type": "code",
   "execution_count": 63,
   "id": "212d2728",
   "metadata": {},
   "outputs": [
    {
     "data": {
      "text/plain": [
       "'world'"
      ]
     },
     "execution_count": 63,
     "metadata": {},
     "output_type": "execute_result"
    }
   ],
   "source": [
    "'' or 'world'"
   ]
  },
  {
   "cell_type": "code",
   "execution_count": 64,
   "id": "58aa03bb",
   "metadata": {},
   "outputs": [
    {
     "data": {
      "text/plain": [
       "'hello'"
      ]
     },
     "execution_count": 64,
     "metadata": {},
     "output_type": "execute_result"
    }
   ],
   "source": [
    "'hello' or 'world'"
   ]
  },
  {
   "cell_type": "code",
   "execution_count": 65,
   "id": "ac972079",
   "metadata": {},
   "outputs": [
    {
     "data": {
      "text/plain": [
       "'world'"
      ]
     },
     "execution_count": 65,
     "metadata": {},
     "output_type": "execute_result"
    }
   ],
   "source": [
    "'hello' and 'world'"
   ]
  },
  {
   "cell_type": "code",
   "execution_count": 66,
   "id": "e64acdee",
   "metadata": {},
   "outputs": [
    {
     "data": {
      "text/plain": [
       "True"
      ]
     },
     "execution_count": 66,
     "metadata": {},
     "output_type": "execute_result"
    }
   ],
   "source": [
    "not ''"
   ]
  },
  {
   "cell_type": "code",
   "execution_count": 67,
   "id": "65be3f17",
   "metadata": {},
   "outputs": [
    {
     "data": {
      "text/plain": [
       "False"
      ]
     },
     "execution_count": 67,
     "metadata": {},
     "output_type": "execute_result"
    }
   ],
   "source": [
    "not 'True'"
   ]
  },
  {
   "cell_type": "code",
   "execution_count": 68,
   "id": "c6313a84",
   "metadata": {},
   "outputs": [
    {
     "name": "stdout",
     "output_type": "stream",
     "text": [
      "h\n",
      "e\n",
      "l\n",
      "l\n",
      "o\n"
     ]
    }
   ],
   "source": [
    "for i in 'hello':\n",
    "    print(i)"
   ]
  },
  {
   "cell_type": "code",
   "execution_count": 69,
   "id": "8e01b51c",
   "metadata": {},
   "outputs": [
    {
     "name": "stdout",
     "output_type": "stream",
     "text": [
      "pune\n",
      "pune\n",
      "pune\n",
      "pune\n",
      "pune\n"
     ]
    }
   ],
   "source": [
    "for i in 'delhi':\n",
    "    print('pune')"
   ]
  },
  {
   "cell_type": "code",
   "execution_count": 70,
   "id": "7c7890b6",
   "metadata": {},
   "outputs": [
    {
     "data": {
      "text/plain": [
       "True"
      ]
     },
     "execution_count": 70,
     "metadata": {},
     "output_type": "execute_result"
    }
   ],
   "source": [
    "'D' in 'Delhi'"
   ]
  },
  {
   "cell_type": "code",
   "execution_count": 71,
   "id": "e0374bd1",
   "metadata": {},
   "outputs": [
    {
     "data": {
      "text/plain": [
       "False"
      ]
     },
     "execution_count": 71,
     "metadata": {},
     "output_type": "execute_result"
    }
   ],
   "source": [
    "'D' not in 'Delhi'"
   ]
  },
  {
   "cell_type": "code",
   "execution_count": 72,
   "id": "fc9b4c83",
   "metadata": {},
   "outputs": [
    {
     "data": {
      "text/plain": [
       "False"
      ]
     },
     "execution_count": 72,
     "metadata": {},
     "output_type": "execute_result"
    }
   ],
   "source": [
    "'D' in 'delhi'"
   ]
  },
  {
   "cell_type": "markdown",
   "id": "092c9830",
   "metadata": {},
   "source": [
    "# Comman Functions"
   ]
  },
  {
   "cell_type": "markdown",
   "id": "4791ee6a",
   "metadata": {},
   "source": [
    "   * len\n",
    "   * max\n",
    "   * min\n",
    "   * sorted "
   ]
  },
  {
   "cell_type": "code",
   "execution_count": 73,
   "id": "0cb046fb",
   "metadata": {},
   "outputs": [
    {
     "data": {
      "text/plain": [
       "11"
      ]
     },
     "execution_count": 73,
     "metadata": {},
     "output_type": "execute_result"
    }
   ],
   "source": [
    "len('hello world')"
   ]
  },
  {
   "cell_type": "code",
   "execution_count": 74,
   "id": "bf2670f0",
   "metadata": {},
   "outputs": [
    {
     "data": {
      "text/plain": [
       "'w'"
      ]
     },
     "execution_count": 74,
     "metadata": {},
     "output_type": "execute_result"
    }
   ],
   "source": [
    "max('hello world')"
   ]
  },
  {
   "cell_type": "code",
   "execution_count": 75,
   "id": "9ad5f110",
   "metadata": {},
   "outputs": [
    {
     "data": {
      "text/plain": [
       "' '"
      ]
     },
     "execution_count": 75,
     "metadata": {},
     "output_type": "execute_result"
    }
   ],
   "source": [
    "min('hello world')"
   ]
  },
  {
   "cell_type": "code",
   "execution_count": 76,
   "id": "9b1ae089",
   "metadata": {},
   "outputs": [
    {
     "data": {
      "text/plain": [
       "[' ', 'd', 'e', 'h', 'l', 'l', 'l', 'o', 'o', 'r', 'w']"
      ]
     },
     "execution_count": 76,
     "metadata": {},
     "output_type": "execute_result"
    }
   ],
   "source": [
    "sorted('hello world')"
   ]
  },
  {
   "cell_type": "code",
   "execution_count": 77,
   "id": "f586569e",
   "metadata": {},
   "outputs": [
    {
     "data": {
      "text/plain": [
       "['w', 'r', 'o', 'o', 'l', 'l', 'l', 'h', 'e', 'd', ' ']"
      ]
     },
     "execution_count": 77,
     "metadata": {},
     "output_type": "execute_result"
    }
   ],
   "source": [
    "sorted('hello world',reverse=True)"
   ]
  },
  {
   "cell_type": "markdown",
   "id": "4a27cacd",
   "metadata": {},
   "source": [
    "# Capitalize/Title/Upper/Lower/Swapcase"
   ]
  },
  {
   "cell_type": "code",
   "execution_count": 78,
   "id": "ae06b3de",
   "metadata": {},
   "outputs": [
    {
     "data": {
      "text/plain": [
       "'Hello world'"
      ]
     },
     "execution_count": 78,
     "metadata": {},
     "output_type": "execute_result"
    }
   ],
   "source": [
    "s = 'hello world'\n",
    "s.capitalize()"
   ]
  },
  {
   "cell_type": "code",
   "execution_count": 79,
   "id": "0abd4b79",
   "metadata": {},
   "outputs": [
    {
     "data": {
      "text/plain": [
       "'Hello World'"
      ]
     },
     "execution_count": 79,
     "metadata": {},
     "output_type": "execute_result"
    }
   ],
   "source": [
    "s.title()"
   ]
  },
  {
   "cell_type": "code",
   "execution_count": 80,
   "id": "4592bbe1",
   "metadata": {},
   "outputs": [
    {
     "data": {
      "text/plain": [
       "'HELLO WORLD'"
      ]
     },
     "execution_count": 80,
     "metadata": {},
     "output_type": "execute_result"
    }
   ],
   "source": [
    "s.upper()"
   ]
  },
  {
   "cell_type": "code",
   "execution_count": 81,
   "id": "c7fa9413",
   "metadata": {},
   "outputs": [
    {
     "data": {
      "text/plain": [
       "'hello world'"
      ]
     },
     "execution_count": 81,
     "metadata": {},
     "output_type": "execute_result"
    }
   ],
   "source": [
    "'Hello World'.lower()"
   ]
  },
  {
   "cell_type": "code",
   "execution_count": 82,
   "id": "c57395fe",
   "metadata": {},
   "outputs": [
    {
     "data": {
      "text/plain": [
       "'hElLo WorLD'"
      ]
     },
     "execution_count": 82,
     "metadata": {},
     "output_type": "execute_result"
    }
   ],
   "source": [
    "'HeLlO wORld'.swapcase()"
   ]
  },
  {
   "cell_type": "markdown",
   "id": "72946441",
   "metadata": {},
   "source": [
    "# Count/Find/Index"
   ]
  },
  {
   "cell_type": "code",
   "execution_count": 83,
   "id": "601855c1",
   "metadata": {},
   "outputs": [
    {
     "data": {
      "text/plain": [
       "3"
      ]
     },
     "execution_count": 83,
     "metadata": {},
     "output_type": "execute_result"
    }
   ],
   "source": [
    "'my name is nitish'.count('i')"
   ]
  },
  {
   "cell_type": "code",
   "execution_count": 84,
   "id": "40e6e4de",
   "metadata": {},
   "outputs": [
    {
     "data": {
      "text/plain": [
       "8"
      ]
     },
     "execution_count": 84,
     "metadata": {},
     "output_type": "execute_result"
    }
   ],
   "source": [
    "'my name is nitish'.find('is')"
   ]
  },
  {
   "cell_type": "code",
   "execution_count": 85,
   "id": "143368d0",
   "metadata": {},
   "outputs": [
    {
     "data": {
      "text/plain": [
       "-1"
      ]
     },
     "execution_count": 85,
     "metadata": {},
     "output_type": "execute_result"
    }
   ],
   "source": [
    "'my name is nitish'.find('x')"
   ]
  },
  {
   "cell_type": "code",
   "execution_count": 87,
   "id": "28c59057",
   "metadata": {},
   "outputs": [
    {
     "data": {
      "text/plain": [
       "8"
      ]
     },
     "execution_count": 87,
     "metadata": {},
     "output_type": "execute_result"
    }
   ],
   "source": [
    "'my name is nitish'.index('is')"
   ]
  },
  {
   "cell_type": "code",
   "execution_count": 88,
   "id": "989b501a",
   "metadata": {},
   "outputs": [
    {
     "ename": "ValueError",
     "evalue": "substring not found",
     "output_type": "error",
     "traceback": [
      "\u001b[1;31m---------------------------------------------------------------------------\u001b[0m",
      "\u001b[1;31mValueError\u001b[0m                                Traceback (most recent call last)",
      "Cell \u001b[1;32mIn[88], line 1\u001b[0m\n\u001b[1;32m----> 1\u001b[0m \u001b[38;5;124m'\u001b[39m\u001b[38;5;124mmy name is nitish\u001b[39m\u001b[38;5;124m'\u001b[39m\u001b[38;5;241m.\u001b[39mindex(\u001b[38;5;124m'\u001b[39m\u001b[38;5;124mx\u001b[39m\u001b[38;5;124m'\u001b[39m)\n",
      "\u001b[1;31mValueError\u001b[0m: substring not found"
     ]
    }
   ],
   "source": [
    "'my name is nitish'.index('x')"
   ]
  },
  {
   "cell_type": "markdown",
   "id": "86e32adb",
   "metadata": {},
   "source": [
    "# endwith/startwith"
   ]
  },
  {
   "cell_type": "code",
   "execution_count": 89,
   "id": "c58f3a31",
   "metadata": {},
   "outputs": [
    {
     "data": {
      "text/plain": [
       "True"
      ]
     },
     "execution_count": 89,
     "metadata": {},
     "output_type": "execute_result"
    }
   ],
   "source": [
    "'my name is nitish'.endswith('sh')"
   ]
  },
  {
   "cell_type": "code",
   "execution_count": 90,
   "id": "4628f900",
   "metadata": {},
   "outputs": [
    {
     "data": {
      "text/plain": [
       "False"
      ]
     },
     "execution_count": 90,
     "metadata": {},
     "output_type": "execute_result"
    }
   ],
   "source": [
    "'my name is nitish'.endswith('sho')"
   ]
  },
  {
   "cell_type": "code",
   "execution_count": 91,
   "id": "b2ddb30c",
   "metadata": {},
   "outputs": [
    {
     "data": {
      "text/plain": [
       "True"
      ]
     },
     "execution_count": 91,
     "metadata": {},
     "output_type": "execute_result"
    }
   ],
   "source": [
    "'my name is nitish'.startswith('my')"
   ]
  },
  {
   "cell_type": "code",
   "execution_count": 92,
   "id": "0dceff01",
   "metadata": {},
   "outputs": [
    {
     "data": {
      "text/plain": [
       "False"
      ]
     },
     "execution_count": 92,
     "metadata": {},
     "output_type": "execute_result"
    }
   ],
   "source": [
    "'my name is nitish'.startswith('1my')"
   ]
  },
  {
   "cell_type": "markdown",
   "id": "6d05bbf4",
   "metadata": {},
   "source": [
    "# format"
   ]
  },
  {
   "cell_type": "code",
   "execution_count": 93,
   "id": "fe505e6e",
   "metadata": {},
   "outputs": [
    {
     "data": {
      "text/plain": [
       "'Hi my name is nitish and i am a male'"
      ]
     },
     "execution_count": 93,
     "metadata": {},
     "output_type": "execute_result"
    }
   ],
   "source": [
    "name = 'nitish'\n",
    "gender = 'male'\n",
    "\n",
    "'Hi my name is {} and i am a {}'.format(name, gender)"
   ]
  },
  {
   "cell_type": "code",
   "execution_count": 95,
   "id": "be793a49",
   "metadata": {},
   "outputs": [
    {
     "data": {
      "text/plain": [
       "'Hi my name is nitish and i am a male'"
      ]
     },
     "execution_count": 95,
     "metadata": {},
     "output_type": "execute_result"
    }
   ],
   "source": [
    "name = 'nitish'\n",
    "gender = 'male'\n",
    "\n",
    "'Hi my name is {1} and i am a {0}'.format(gender, name)"
   ]
  },
  {
   "cell_type": "code",
   "execution_count": 96,
   "id": "628ed980",
   "metadata": {},
   "outputs": [
    {
     "data": {
      "text/plain": [
       "'Hi my name is male and i am a nitish'"
      ]
     },
     "execution_count": 96,
     "metadata": {},
     "output_type": "execute_result"
    }
   ],
   "source": [
    "name = 'nitish'\n",
    "gender = 'male'\n",
    "\n",
    "'Hi my name is {1} and i am a {0}'.format(name, gender)"
   ]
  },
  {
   "cell_type": "markdown",
   "id": "d8c200c8",
   "metadata": {},
   "source": [
    "# isalnum/isalpha/isdigit/isidentifier"
   ]
  },
  {
   "cell_type": "code",
   "execution_count": 98,
   "id": "57fee5b5",
   "metadata": {},
   "outputs": [
    {
     "data": {
      "text/plain": [
       "True"
      ]
     },
     "execution_count": 98,
     "metadata": {},
     "output_type": "execute_result"
    }
   ],
   "source": [
    "'nitish1234'.isalnum()"
   ]
  },
  {
   "cell_type": "code",
   "execution_count": 99,
   "id": "f308fa0e",
   "metadata": {},
   "outputs": [
    {
     "data": {
      "text/plain": [
       "False"
      ]
     },
     "execution_count": 99,
     "metadata": {},
     "output_type": "execute_result"
    }
   ],
   "source": [
    "'nitish1234%'.isalnum()"
   ]
  },
  {
   "cell_type": "code",
   "execution_count": 100,
   "id": "e7702cc0",
   "metadata": {},
   "outputs": [
    {
     "data": {
      "text/plain": [
       "False"
      ]
     },
     "execution_count": 100,
     "metadata": {},
     "output_type": "execute_result"
    }
   ],
   "source": [
    "'nitish1234'.isalpha()"
   ]
  },
  {
   "cell_type": "code",
   "execution_count": 101,
   "id": "ecc42d97",
   "metadata": {},
   "outputs": [
    {
     "data": {
      "text/plain": [
       "True"
      ]
     },
     "execution_count": 101,
     "metadata": {},
     "output_type": "execute_result"
    }
   ],
   "source": [
    "'nitish'.isalpha()"
   ]
  },
  {
   "cell_type": "code",
   "execution_count": 102,
   "id": "440e3e7b",
   "metadata": {},
   "outputs": [
    {
     "data": {
      "text/plain": [
       "True"
      ]
     },
     "execution_count": 102,
     "metadata": {},
     "output_type": "execute_result"
    }
   ],
   "source": [
    "'123'.isdigit()"
   ]
  },
  {
   "cell_type": "code",
   "execution_count": 103,
   "id": "30fcc853",
   "metadata": {},
   "outputs": [
    {
     "data": {
      "text/plain": [
       "False"
      ]
     },
     "execution_count": 103,
     "metadata": {},
     "output_type": "execute_result"
    }
   ],
   "source": [
    "'123abc'.isdigit()"
   ]
  },
  {
   "cell_type": "code",
   "execution_count": 104,
   "id": "163c9529",
   "metadata": {},
   "outputs": [
    {
     "data": {
      "text/plain": [
       "False"
      ]
     },
     "execution_count": 104,
     "metadata": {},
     "output_type": "execute_result"
    }
   ],
   "source": [
    "'1name'.isidentifier()"
   ]
  },
  {
   "cell_type": "code",
   "execution_count": 105,
   "id": "f19fe4b5",
   "metadata": {},
   "outputs": [
    {
     "data": {
      "text/plain": [
       "True"
      ]
     },
     "execution_count": 105,
     "metadata": {},
     "output_type": "execute_result"
    }
   ],
   "source": [
    "'name1'.isidentifier()"
   ]
  },
  {
   "cell_type": "code",
   "execution_count": 106,
   "id": "fa26ddfa",
   "metadata": {},
   "outputs": [
    {
     "data": {
      "text/plain": [
       "False"
      ]
     },
     "execution_count": 106,
     "metadata": {},
     "output_type": "execute_result"
    }
   ],
   "source": [
    "'first-name'.isidentifier()"
   ]
  },
  {
   "cell_type": "code",
   "execution_count": 107,
   "id": "4b9d23a7",
   "metadata": {},
   "outputs": [
    {
     "data": {
      "text/plain": [
       "True"
      ]
     },
     "execution_count": 107,
     "metadata": {},
     "output_type": "execute_result"
    }
   ],
   "source": [
    "'first_name'.isidentifier()"
   ]
  },
  {
   "cell_type": "markdown",
   "id": "6b025024",
   "metadata": {},
   "source": [
    "# Split/Join"
   ]
  },
  {
   "cell_type": "code",
   "execution_count": 108,
   "id": "6f15a48b",
   "metadata": {},
   "outputs": [
    {
     "data": {
      "text/plain": [
       "['hi', 'my', 'name', 'is', 'nitish']"
      ]
     },
     "execution_count": 108,
     "metadata": {},
     "output_type": "execute_result"
    }
   ],
   "source": [
    "'hi my name is nitish'.split()"
   ]
  },
  {
   "cell_type": "code",
   "execution_count": 109,
   "id": "91e958b4",
   "metadata": {},
   "outputs": [
    {
     "data": {
      "text/plain": [
       "['h', ' my name ', 's n', 't', 'sh']"
      ]
     },
     "execution_count": 109,
     "metadata": {},
     "output_type": "execute_result"
    }
   ],
   "source": [
    "'hi my name is nitish'.split('i')"
   ]
  },
  {
   "cell_type": "code",
   "execution_count": 110,
   "id": "1c4128b3",
   "metadata": {},
   "outputs": [
    {
     "data": {
      "text/plain": [
       "['hi my name ', ' nit', 'h']"
      ]
     },
     "execution_count": 110,
     "metadata": {},
     "output_type": "execute_result"
    }
   ],
   "source": [
    "'hi my name is nitish'.split('is')"
   ]
  },
  {
   "cell_type": "code",
   "execution_count": 111,
   "id": "29c3e172",
   "metadata": {},
   "outputs": [
    {
     "data": {
      "text/plain": [
       "'hi my name is nitish'"
      ]
     },
     "execution_count": 111,
     "metadata": {},
     "output_type": "execute_result"
    }
   ],
   "source": [
    "\" \".join(['hi', 'my', 'name', 'is', 'nitish'])"
   ]
  },
  {
   "cell_type": "code",
   "execution_count": 112,
   "id": "1a846abb",
   "metadata": {},
   "outputs": [
    {
     "data": {
      "text/plain": [
       "'hi-my-name-is-nitish'"
      ]
     },
     "execution_count": 112,
     "metadata": {},
     "output_type": "execute_result"
    }
   ],
   "source": [
    "\"-\".join(['hi', 'my', 'name', 'is', 'nitish'])"
   ]
  },
  {
   "cell_type": "markdown",
   "id": "6bbdf4af",
   "metadata": {},
   "source": [
    "# replace"
   ]
  },
  {
   "cell_type": "code",
   "execution_count": 113,
   "id": "b68a93ff",
   "metadata": {},
   "outputs": [
    {
     "data": {
      "text/plain": [
       "'hi my name is campusx'"
      ]
     },
     "execution_count": 113,
     "metadata": {},
     "output_type": "execute_result"
    }
   ],
   "source": [
    "'hi my name is nitish'.replace('nitish','campusx')"
   ]
  },
  {
   "cell_type": "code",
   "execution_count": 114,
   "id": "82859f32",
   "metadata": {},
   "outputs": [
    {
     "data": {
      "text/plain": [
       "'hi my name is nitish'"
      ]
     },
     "execution_count": 114,
     "metadata": {},
     "output_type": "execute_result"
    }
   ],
   "source": [
    "'hi my name is nitish'.replace('nitsdssjkdnkjsish','campusx')"
   ]
  },
  {
   "cell_type": "markdown",
   "id": "bad10cfc",
   "metadata": {},
   "source": [
    "# Strip"
   ]
  },
  {
   "cell_type": "code",
   "execution_count": 115,
   "id": "56d7e93a",
   "metadata": {},
   "outputs": [
    {
     "data": {
      "text/plain": [
       "'nitish'"
      ]
     },
     "execution_count": 115,
     "metadata": {},
     "output_type": "execute_result"
    }
   ],
   "source": [
    "'nitish                   '.strip()"
   ]
  },
  {
   "cell_type": "code",
   "execution_count": 116,
   "id": "81ca488c",
   "metadata": {},
   "outputs": [],
   "source": [
    "# Find the length of a given string without using len() function"
   ]
  },
  {
   "cell_type": "code",
   "execution_count": 118,
   "id": "9a04aa79",
   "metadata": {},
   "outputs": [
    {
     "name": "stdout",
     "output_type": "stream",
     "text": [
      "enter the string : nitish\n",
      "length of string is 6\n"
     ]
    }
   ],
   "source": [
    "s = input('enter the string : ')\n",
    "\n",
    "counter = 0\n",
    "\n",
    "for i in s:\n",
    "    counter += 1\n",
    "    \n",
    "print('length of string is',counter)"
   ]
  },
  {
   "cell_type": "code",
   "execution_count": 121,
   "id": "6b1da375",
   "metadata": {},
   "outputs": [
    {
     "name": "stdout",
     "output_type": "stream",
     "text": [
      "enter the email : shubham12345@gmail.com\n",
      "shubham12345\n"
     ]
    }
   ],
   "source": [
    "# Extract username from a given email.\n",
    "# Eg if the email is nitish24singh@gmail.com\n",
    "# then the username should be nitish24singh\n",
    "\n",
    "s = input('enter the email : ')\n",
    "\n",
    "pos = s.index('@')\n",
    "print(s[0:pos])\n"
   ]
  },
  {
   "cell_type": "code",
   "execution_count": 122,
   "id": "b9489306",
   "metadata": {},
   "outputs": [],
   "source": [
    "# Count the frequency of a perticular character in a provided string.\n",
    "# Eg 'hello how are you' is the string, the frequency of h in this string is 2.\n",
    "\n"
   ]
  },
  {
   "cell_type": "code",
   "execution_count": 123,
   "id": "6458cdd8",
   "metadata": {},
   "outputs": [
    {
     "name": "stdout",
     "output_type": "stream",
     "text": [
      "enter the string : how are you\n",
      "what would like to search for : o\n",
      "frequency  2\n"
     ]
    }
   ],
   "source": [
    "s = input('enter the string : ')\n",
    "\n",
    "term = input('what would like to search for : ')\n",
    "\n",
    "counter = 0\n",
    "for i in s:\n",
    "    if i == term:\n",
    "        counter += 1\n",
    "        \n",
    "print('frequency ',counter)\n",
    "    \n"
   ]
  },
  {
   "cell_type": "code",
   "execution_count": 124,
   "id": "5f08a8e6",
   "metadata": {},
   "outputs": [
    {
     "name": "stdout",
     "output_type": "stream",
     "text": [
      "enter the string : nitish\n",
      "what would like to remove : i\n",
      "ntsh\n"
     ]
    }
   ],
   "source": [
    "# Write a program which can remove a perticular character from a string.\n",
    "\n",
    "s = input('enter the string : ')\n",
    " \n",
    "term = input('what would like to remove : ')\n",
    "\n",
    "result = ''\n",
    "\n",
    "for i in s:\n",
    "    if i != term:\n",
    "        result = result + i\n",
    "        \n",
    "print(result)"
   ]
  },
  {
   "cell_type": "code",
   "execution_count": 127,
   "id": "00893e11",
   "metadata": {},
   "outputs": [
    {
     "name": "stdout",
     "output_type": "stream",
     "text": [
      "enter the string : python\n",
      "Not a Palindrome\n"
     ]
    }
   ],
   "source": [
    "# Write a program that can check weather a given string is paindrome or not.\n",
    "\n",
    "# abba\n",
    "# malayalam\n",
    "\n",
    "s = input('enter the string : ')\n",
    "flag = True\n",
    "\n",
    "for i in range(0,len(s)//2):\n",
    "    if s[i] != s[len(s) - i -1]:\n",
    "        flag = False\n",
    "        print('Not a Palindrome')\n",
    "        break\n",
    "        \n",
    "if flag:\n",
    "    print('Palindrome')"
   ]
  },
  {
   "cell_type": "code",
   "execution_count": 132,
   "id": "4b20c3d9",
   "metadata": {},
   "outputs": [
    {
     "name": "stdout",
     "output_type": "stream",
     "text": [
      "enter a string : hi how are you\n",
      "['hi', 'how', 'are', 'you']\n"
     ]
    }
   ],
   "source": [
    "# Write a program to count the number of words in a string without split()\n",
    "\n",
    "s = input('enter a string : ')\n",
    "L = []\n",
    "temp = ''\n",
    "\n",
    "for i in s:\n",
    "    if i != ' ':\n",
    "        temp = temp + i\n",
    "    else:\n",
    "        L.append(temp)\n",
    "        temp = ''\n",
    "L.append(temp)     \n",
    "print(L)"
   ]
  },
  {
   "cell_type": "code",
   "execution_count": 137,
   "id": "335722cf",
   "metadata": {},
   "outputs": [
    {
     "name": "stdout",
     "output_type": "stream",
     "text": [
      "enter the string : mY naME is ShuBHAm\n",
      "My Name Is Shubham\n"
     ]
    }
   ],
   "source": [
    "# Write a python program to convert a string to title case without using title()\n",
    "\n",
    "s = input('enter the string : ')\n",
    "\n",
    "L = []\n",
    "\n",
    "for i in s.split():\n",
    "    L.append(i[0].upper() + i[1:].lower())\n",
    "    \n",
    "print(\" \".join(L))"
   ]
  },
  {
   "cell_type": "code",
   "execution_count": 140,
   "id": "59c56dcb",
   "metadata": {},
   "outputs": [
    {
     "name": "stdout",
     "output_type": "stream",
     "text": [
      "enter the number : 345\n",
      "345\n",
      "<class 'str'>\n"
     ]
    }
   ],
   "source": [
    "# Write a program that can convert an integer to string.\n",
    "\n",
    "number = int(input('enter the number : '))\n",
    "\n",
    "digits = '0123456789'\n",
    "result = ''\n",
    "while number != 0:\n",
    "    result = digits[number % 10] +result\n",
    "    number = number//10\n",
    "\n",
    "print(result)\n",
    "print(type(result))"
   ]
  },
  {
   "cell_type": "code",
   "execution_count": null,
   "id": "7e15709e",
   "metadata": {},
   "outputs": [],
   "source": []
  }
 ],
 "metadata": {
  "kernelspec": {
   "display_name": "Python 3 (ipykernel)",
   "language": "python",
   "name": "python3"
  },
  "language_info": {
   "codemirror_mode": {
    "name": "ipython",
    "version": 3
   },
   "file_extension": ".py",
   "mimetype": "text/x-python",
   "name": "python",
   "nbconvert_exporter": "python",
   "pygments_lexer": "ipython3",
   "version": "3.11.3"
  }
 },
 "nbformat": 4,
 "nbformat_minor": 5
}
