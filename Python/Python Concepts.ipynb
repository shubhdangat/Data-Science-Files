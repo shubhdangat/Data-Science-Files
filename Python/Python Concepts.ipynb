{
 "cells": [
  {
   "cell_type": "markdown",
   "id": "a036f32a",
   "metadata": {},
   "source": [
    "# Variable\n",
    "\n",
    "* Variables acts as container space to store any data.\n",
    "* It helps us to assign a memory location to a value which can be called whenever we want that value\n",
    "* Variable should always start with either letter or _.\n",
    "* Numbers cannot be added at start\n",
    "* Special characters are not allowed in variables.\n",
    "\n",
    "    ■ If your variables name contains more than single word, join those words with _.\n",
    "    \n",
    "    ■ Always give name which is meaningful.\n",
    "    \n",
    "    ■ Python is case sensitive"
   ]
  },
  {
   "cell_type": "code",
   "execution_count": 4,
   "id": "3507317a",
   "metadata": {},
   "outputs": [
    {
     "data": {
      "text/plain": [
       "78454554"
      ]
     },
     "execution_count": 4,
     "metadata": {},
     "output_type": "execute_result"
    }
   ],
   "source": [
    "a = 78454554\n",
    "a"
   ]
  },
  {
   "cell_type": "code",
   "execution_count": 5,
   "id": "0bd42bf0",
   "metadata": {},
   "outputs": [
    {
     "data": {
      "text/plain": [
       "123458"
      ]
     },
     "execution_count": 5,
     "metadata": {},
     "output_type": "execute_result"
    }
   ],
   "source": [
    "a = 123456\n",
    "a+2"
   ]
  },
  {
   "cell_type": "code",
   "execution_count": 7,
   "id": "18c7d93a",
   "metadata": {},
   "outputs": [
    {
     "data": {
      "text/plain": [
       "12250"
      ]
     },
     "execution_count": 7,
     "metadata": {},
     "output_type": "execute_result"
    }
   ],
   "source": [
    "a = 12252\n",
    "a-2"
   ]
  },
  {
   "cell_type": "code",
   "execution_count": 9,
   "id": "d7ad3d36",
   "metadata": {},
   "outputs": [
    {
     "data": {
      "text/plain": [
       "879855"
      ]
     },
     "execution_count": 9,
     "metadata": {},
     "output_type": "execute_result"
    }
   ],
   "source": [
    "#1b = 98789 #Comment\n",
    "b1 = 879855\n",
    "b1\n"
   ]
  },
  {
   "cell_type": "code",
   "execution_count": 11,
   "id": "3d381de4",
   "metadata": {},
   "outputs": [],
   "source": [
    "#$xyz = 876 #Special symbol "
   ]
  },
  {
   "cell_type": "code",
   "execution_count": 16,
   "id": "3d9b883a",
   "metadata": {},
   "outputs": [
    {
     "data": {
      "text/plain": [
       "('shubham', 'pranit')"
      ]
     },
     "execution_count": 16,
     "metadata": {},
     "output_type": "execute_result"
    }
   ],
   "source": [
    "#first name = 'shubham' # Space within the variable\n",
    "\n",
    "firstname = 'shubham'\n",
    "first_name = 'pranit'\n",
    "firstname,first_name"
   ]
  },
  {
   "cell_type": "code",
   "execution_count": 17,
   "id": "2ff93b2b",
   "metadata": {},
   "outputs": [],
   "source": [
    "integer = 100\n",
    "continous = 45.2   #float\n",
    "string = 'Python' #text\n",
    "boolean = False"
   ]
  },
  {
   "cell_type": "code",
   "execution_count": 22,
   "id": "9410c9d6",
   "metadata": {},
   "outputs": [
    {
     "data": {
      "text/plain": [
       "False"
      ]
     },
     "execution_count": 22,
     "metadata": {},
     "output_type": "execute_result"
    }
   ],
   "source": [
    "integer\n",
    "continous\n",
    "string\n",
    "boolean"
   ]
  },
  {
   "cell_type": "code",
   "execution_count": 23,
   "id": "4caed932",
   "metadata": {},
   "outputs": [
    {
     "name": "stdout",
     "output_type": "stream",
     "text": [
      "100\n",
      "45.2\n",
      "Python\n",
      "False\n"
     ]
    }
   ],
   "source": [
    "print(integer)\n",
    "print(continous)\n",
    "print(string)\n",
    "print(boolean)"
   ]
  },
  {
   "cell_type": "code",
   "execution_count": 24,
   "id": "7f5c18ac",
   "metadata": {},
   "outputs": [
    {
     "data": {
      "text/plain": [
       "int"
      ]
     },
     "execution_count": 24,
     "metadata": {},
     "output_type": "execute_result"
    }
   ],
   "source": [
    "type(integer)"
   ]
  },
  {
   "cell_type": "code",
   "execution_count": 25,
   "id": "71809dc7",
   "metadata": {},
   "outputs": [
    {
     "data": {
      "text/plain": [
       "float"
      ]
     },
     "execution_count": 25,
     "metadata": {},
     "output_type": "execute_result"
    }
   ],
   "source": [
    "type(continous)"
   ]
  },
  {
   "cell_type": "code",
   "execution_count": 26,
   "id": "624e8563",
   "metadata": {},
   "outputs": [
    {
     "data": {
      "text/plain": [
       "str"
      ]
     },
     "execution_count": 26,
     "metadata": {},
     "output_type": "execute_result"
    }
   ],
   "source": [
    "type(string)"
   ]
  },
  {
   "cell_type": "code",
   "execution_count": 27,
   "id": "1ac1fdd2",
   "metadata": {},
   "outputs": [
    {
     "data": {
      "text/plain": [
       "bool"
      ]
     },
     "execution_count": 27,
     "metadata": {},
     "output_type": "execute_result"
    }
   ],
   "source": [
    "type(boolean)"
   ]
  },
  {
   "cell_type": "code",
   "execution_count": 28,
   "id": "d0dee1f7",
   "metadata": {},
   "outputs": [
    {
     "name": "stdout",
     "output_type": "stream",
     "text": [
      "<class 'int'>\n"
     ]
    }
   ],
   "source": [
    "print(type(integer))"
   ]
  },
  {
   "cell_type": "markdown",
   "id": "77ff9604",
   "metadata": {},
   "source": [
    "# Data Stucture\n",
    "\n",
    "* Data structures act as container/storage space to store multiple values in one variable\n",
    "* Python has 4 built in data structures.\n",
    "    * They are as follows\n",
    "        * Lists\n",
    "        * Tuple\n",
    "        * Dictionary\n",
    "        * Sets"
   ]
  },
  {
   "cell_type": "code",
   "execution_count": 29,
   "id": "0de7ce91",
   "metadata": {},
   "outputs": [
    {
     "data": {
      "text/plain": [
       "[10, 10.2, 'Python class', False]"
      ]
     },
     "execution_count": 29,
     "metadata": {},
     "output_type": "execute_result"
    }
   ],
   "source": [
    "#lists\n",
    "lst = [10,10.2,'Python class', False]\n",
    "lst"
   ]
  },
  {
   "cell_type": "code",
   "execution_count": 30,
   "id": "c66102da",
   "metadata": {},
   "outputs": [
    {
     "data": {
      "text/plain": [
       "list"
      ]
     },
     "execution_count": 30,
     "metadata": {},
     "output_type": "execute_result"
    }
   ],
   "source": [
    "type(lst)"
   ]
  },
  {
   "cell_type": "code",
   "execution_count": 32,
   "id": "18716376",
   "metadata": {},
   "outputs": [
    {
     "name": "stdout",
     "output_type": "stream",
     "text": [
      "(14, 19.2, 'Python', True, 10.11)\n"
     ]
    },
    {
     "data": {
      "text/plain": [
       "tuple"
      ]
     },
     "execution_count": 32,
     "metadata": {},
     "output_type": "execute_result"
    }
   ],
   "source": [
    "#Tuple\n",
    "t = (14,19.2,'Python',True, 10.11)\n",
    "print(t)\n",
    "type(t)"
   ]
  },
  {
   "cell_type": "code",
   "execution_count": 33,
   "id": "b8dec785",
   "metadata": {},
   "outputs": [
    {
     "name": "stdout",
     "output_type": "stream",
     "text": [
      "{'name': 'Shubham', 'age': 52, 'loacation': 'Mumbai'}\n"
     ]
    },
    {
     "data": {
      "text/plain": [
       "dict"
      ]
     },
     "execution_count": 33,
     "metadata": {},
     "output_type": "execute_result"
    }
   ],
   "source": [
    "#Dictionary\n",
    "dictionary = {'name':'Shubham', 'age':52, 'loacation':'Mumbai'}\n",
    "print(dictionary)\n",
    "type(dictionary)"
   ]
  },
  {
   "cell_type": "code",
   "execution_count": 34,
   "id": "407c12ee",
   "metadata": {},
   "outputs": [],
   "source": [
    "s = {1,2,3,4,5,6}"
   ]
  },
  {
   "cell_type": "code",
   "execution_count": 35,
   "id": "eeed3e03",
   "metadata": {},
   "outputs": [
    {
     "data": {
      "text/plain": [
       "{1, 2, 3, 4, 5, 6}"
      ]
     },
     "execution_count": 35,
     "metadata": {},
     "output_type": "execute_result"
    }
   ],
   "source": [
    "s"
   ]
  },
  {
   "cell_type": "code",
   "execution_count": 36,
   "id": "fe69400a",
   "metadata": {},
   "outputs": [
    {
     "data": {
      "text/plain": [
       "set"
      ]
     },
     "execution_count": 36,
     "metadata": {},
     "output_type": "execute_result"
    }
   ],
   "source": [
    "type(s)"
   ]
  },
  {
   "cell_type": "code",
   "execution_count": 37,
   "id": "0ca5f346",
   "metadata": {},
   "outputs": [
    {
     "data": {
      "text/plain": [
       "dict"
      ]
     },
     "execution_count": 37,
     "metadata": {},
     "output_type": "execute_result"
    }
   ],
   "source": [
    "s = {}\n",
    "type(s)"
   ]
  },
  {
   "cell_type": "code",
   "execution_count": 38,
   "id": "a15798f3",
   "metadata": {},
   "outputs": [
    {
     "name": "stdout",
     "output_type": "stream",
     "text": [
      "{True, 10, 'Anit'}\n"
     ]
    }
   ],
   "source": [
    "s = {10, True, 'Anit'}\n",
    "print(s)"
   ]
  },
  {
   "cell_type": "code",
   "execution_count": 39,
   "id": "97256e2e",
   "metadata": {},
   "outputs": [
    {
     "data": {
      "text/plain": [
       "set"
      ]
     },
     "execution_count": 39,
     "metadata": {},
     "output_type": "execute_result"
    }
   ],
   "source": [
    "type(s)"
   ]
  },
  {
   "cell_type": "markdown",
   "id": "5de42939",
   "metadata": {},
   "source": [
    "# List Functions"
   ]
  },
  {
   "cell_type": "code",
   "execution_count": 40,
   "id": "596c4a83",
   "metadata": {},
   "outputs": [
    {
     "data": {
      "text/plain": [
       "[10, 12, 1.3, 'Python', False]"
      ]
     },
     "execution_count": 40,
     "metadata": {},
     "output_type": "execute_result"
    }
   ],
   "source": [
    "lst = [10,12,1.3,'Python',False]\n",
    "lst"
   ]
  },
  {
   "cell_type": "code",
   "execution_count": 41,
   "id": "1a6307c3",
   "metadata": {},
   "outputs": [
    {
     "data": {
      "text/plain": [
       "'Python'"
      ]
     },
     "execution_count": 41,
     "metadata": {},
     "output_type": "execute_result"
    }
   ],
   "source": [
    "lst[3]"
   ]
  },
  {
   "cell_type": "code",
   "execution_count": 42,
   "id": "a72e4b21",
   "metadata": {},
   "outputs": [
    {
     "data": {
      "text/plain": [
       "10"
      ]
     },
     "execution_count": 42,
     "metadata": {},
     "output_type": "execute_result"
    }
   ],
   "source": [
    "lst[0]"
   ]
  },
  {
   "cell_type": "code",
   "execution_count": 43,
   "id": "5fb9796b",
   "metadata": {},
   "outputs": [],
   "source": [
    "#add \n",
    "\n",
    "lst.append('Machine Learning')"
   ]
  },
  {
   "cell_type": "code",
   "execution_count": 44,
   "id": "92861f4e",
   "metadata": {},
   "outputs": [
    {
     "data": {
      "text/plain": [
       "[10, 12, 1.3, 'Python', False, 'Machine Learning']"
      ]
     },
     "execution_count": 44,
     "metadata": {},
     "output_type": "execute_result"
    }
   ],
   "source": [
    "lst"
   ]
  },
  {
   "cell_type": "code",
   "execution_count": 45,
   "id": "2faee1e1",
   "metadata": {},
   "outputs": [
    {
     "ename": "TypeError",
     "evalue": "list.append() takes exactly one argument (2 given)",
     "output_type": "error",
     "traceback": [
      "\u001b[1;31m---------------------------------------------------------------------------\u001b[0m",
      "\u001b[1;31mTypeError\u001b[0m                                 Traceback (most recent call last)",
      "Cell \u001b[1;32mIn[45], line 1\u001b[0m\n\u001b[1;32m----> 1\u001b[0m lst\u001b[38;5;241m.\u001b[39mappend(\u001b[38;5;241m21\u001b[39m,\u001b[38;5;241m45\u001b[39m)\n",
      "\u001b[1;31mTypeError\u001b[0m: list.append() takes exactly one argument (2 given)"
     ]
    }
   ],
   "source": [
    "lst.append(21,45)"
   ]
  },
  {
   "cell_type": "code",
   "execution_count": 46,
   "id": "9d107fc4",
   "metadata": {},
   "outputs": [
    {
     "data": {
      "text/plain": [
       "[10, 12, 1.3, 'Python', False, 'Machine Learning']"
      ]
     },
     "execution_count": 46,
     "metadata": {},
     "output_type": "execute_result"
    }
   ],
   "source": [
    "lst"
   ]
  },
  {
   "cell_type": "code",
   "execution_count": 47,
   "id": "dfeae314",
   "metadata": {},
   "outputs": [
    {
     "data": {
      "text/plain": [
       "[10, 12, 1.3, 'Python', False, 'Machine Learning', 45]"
      ]
     },
     "execution_count": 47,
     "metadata": {},
     "output_type": "execute_result"
    }
   ],
   "source": [
    "lst.append(45)\n",
    "lst"
   ]
  },
  {
   "cell_type": "code",
   "execution_count": 48,
   "id": "f0e147f4",
   "metadata": {},
   "outputs": [
    {
     "data": {
      "text/plain": [
       "[10, 12, 'Deep Learning', 1.3, 'Python', False, 'Machine Learning', 45]"
      ]
     },
     "execution_count": 48,
     "metadata": {},
     "output_type": "execute_result"
    }
   ],
   "source": [
    "lst.insert(2,'Deep Learning')\n",
    "lst"
   ]
  },
  {
   "cell_type": "code",
   "execution_count": 49,
   "id": "1116d125",
   "metadata": {},
   "outputs": [
    {
     "data": {
      "text/plain": [
       "[10,\n",
       " 12,\n",
       " 'Deep Learning',\n",
       " 1.3,\n",
       " 'Python',\n",
       " False,\n",
       " 'Machine Learning',\n",
       " 45,\n",
       " 100,\n",
       " 500,\n",
       " 'Stats']"
      ]
     },
     "execution_count": 49,
     "metadata": {},
     "output_type": "execute_result"
    }
   ],
   "source": [
    "lst.extend([100,500,'Stats'])\n",
    "lst"
   ]
  },
  {
   "cell_type": "code",
   "execution_count": 50,
   "id": "fad0c66f",
   "metadata": {},
   "outputs": [],
   "source": [
    "#Remove"
   ]
  },
  {
   "cell_type": "code",
   "execution_count": 51,
   "id": "a908294e",
   "metadata": {},
   "outputs": [
    {
     "data": {
      "text/plain": [
       "'Stats'"
      ]
     },
     "execution_count": 51,
     "metadata": {},
     "output_type": "execute_result"
    }
   ],
   "source": [
    "lst.pop()"
   ]
  },
  {
   "cell_type": "code",
   "execution_count": 52,
   "id": "d539a57e",
   "metadata": {},
   "outputs": [
    {
     "data": {
      "text/plain": [
       "[10,\n",
       " 12,\n",
       " 'Deep Learning',\n",
       " 1.3,\n",
       " 'Python',\n",
       " False,\n",
       " 'Machine Learning',\n",
       " 45,\n",
       " 100,\n",
       " 500]"
      ]
     },
     "execution_count": 52,
     "metadata": {},
     "output_type": "execute_result"
    }
   ],
   "source": [
    "lst"
   ]
  },
  {
   "cell_type": "code",
   "execution_count": 53,
   "id": "82157a14",
   "metadata": {},
   "outputs": [
    {
     "data": {
      "text/plain": [
       "10"
      ]
     },
     "execution_count": 53,
     "metadata": {},
     "output_type": "execute_result"
    }
   ],
   "source": [
    "lst.pop(0)"
   ]
  },
  {
   "cell_type": "code",
   "execution_count": 54,
   "id": "06831d18",
   "metadata": {},
   "outputs": [
    {
     "data": {
      "text/plain": [
       "[12, 'Deep Learning', 1.3, 'Python', False, 'Machine Learning', 45, 100, 500]"
      ]
     },
     "execution_count": 54,
     "metadata": {},
     "output_type": "execute_result"
    }
   ],
   "source": [
    "lst"
   ]
  },
  {
   "cell_type": "code",
   "execution_count": 55,
   "id": "13e1f5c4",
   "metadata": {},
   "outputs": [
    {
     "data": {
      "text/plain": [
       "1.3"
      ]
     },
     "execution_count": 55,
     "metadata": {},
     "output_type": "execute_result"
    }
   ],
   "source": [
    "lst.pop(2)"
   ]
  },
  {
   "cell_type": "code",
   "execution_count": 56,
   "id": "e1dcf3c6",
   "metadata": {},
   "outputs": [
    {
     "data": {
      "text/plain": [
       "[12, 'Deep Learning', 'Python', False, 'Machine Learning', 45, 100, 500]"
      ]
     },
     "execution_count": 56,
     "metadata": {},
     "output_type": "execute_result"
    }
   ],
   "source": [
    "lst"
   ]
  },
  {
   "cell_type": "code",
   "execution_count": 57,
   "id": "456d8a35",
   "metadata": {},
   "outputs": [],
   "source": [
    "lst.remove(45)"
   ]
  },
  {
   "cell_type": "code",
   "execution_count": 58,
   "id": "73fbb2eb",
   "metadata": {},
   "outputs": [
    {
     "data": {
      "text/plain": [
       "[12, 'Deep Learning', 'Python', False, 'Machine Learning', 100, 500]"
      ]
     },
     "execution_count": 58,
     "metadata": {},
     "output_type": "execute_result"
    }
   ],
   "source": [
    "lst"
   ]
  },
  {
   "cell_type": "code",
   "execution_count": 59,
   "id": "3cb021ad",
   "metadata": {},
   "outputs": [],
   "source": [
    "#Replace"
   ]
  },
  {
   "cell_type": "code",
   "execution_count": 60,
   "id": "5be05065",
   "metadata": {},
   "outputs": [
    {
     "data": {
      "text/plain": [
       "[12, 'Deep Learning', 'Python', False, 'Machine Learning', 100, 500]"
      ]
     },
     "execution_count": 60,
     "metadata": {},
     "output_type": "execute_result"
    }
   ],
   "source": [
    "lst"
   ]
  },
  {
   "cell_type": "code",
   "execution_count": 61,
   "id": "6460f72f",
   "metadata": {},
   "outputs": [
    {
     "data": {
      "text/plain": [
       "'Deep Learning'"
      ]
     },
     "execution_count": 61,
     "metadata": {},
     "output_type": "execute_result"
    }
   ],
   "source": [
    "lst[1]"
   ]
  },
  {
   "cell_type": "code",
   "execution_count": 62,
   "id": "edf85662",
   "metadata": {},
   "outputs": [],
   "source": [
    "lst[1] = 5000"
   ]
  },
  {
   "cell_type": "code",
   "execution_count": 63,
   "id": "fc244f5b",
   "metadata": {},
   "outputs": [
    {
     "data": {
      "text/plain": [
       "[12, 5000, 'Python', False, 'Machine Learning', 100, 500]"
      ]
     },
     "execution_count": 63,
     "metadata": {},
     "output_type": "execute_result"
    }
   ],
   "source": [
    "lst"
   ]
  },
  {
   "cell_type": "code",
   "execution_count": 64,
   "id": "ac72a5c1",
   "metadata": {},
   "outputs": [],
   "source": [
    "lst[5] = 1000"
   ]
  },
  {
   "cell_type": "code",
   "execution_count": 65,
   "id": "c64140e6",
   "metadata": {},
   "outputs": [
    {
     "data": {
      "text/plain": [
       "[12, 5000, 'Python', False, 'Machine Learning', 1000, 500]"
      ]
     },
     "execution_count": 65,
     "metadata": {},
     "output_type": "execute_result"
    }
   ],
   "source": [
    "lst"
   ]
  },
  {
   "cell_type": "markdown",
   "id": "2446dffb",
   "metadata": {},
   "source": [
    "# Conditional Statment\n",
    "\n",
    "* In programming, when we need to get output based on certain condition, to specify those conditions, we make use of conditional statments.\n",
    "\n",
    "* In python, There are three conditional statments are there.\n",
    "\n",
    "    * if\n",
    "    * elif\n",
    "    * else"
   ]
  },
  {
   "cell_type": "code",
   "execution_count": 66,
   "id": "e059571c",
   "metadata": {},
   "outputs": [
    {
     "data": {
      "text/plain": [
       "False"
      ]
     },
     "execution_count": 66,
     "metadata": {},
     "output_type": "execute_result"
    }
   ],
   "source": [
    "a = 1\n",
    "b = 10\n",
    "\n",
    "a == b"
   ]
  },
  {
   "cell_type": "code",
   "execution_count": 67,
   "id": "e9f3c859",
   "metadata": {},
   "outputs": [
    {
     "data": {
      "text/plain": [
       "True"
      ]
     },
     "execution_count": 67,
     "metadata": {},
     "output_type": "execute_result"
    }
   ],
   "source": [
    "a = 1\n",
    "b = 1\n",
    "\n",
    "a == b"
   ]
  },
  {
   "cell_type": "code",
   "execution_count": 68,
   "id": "8cbb6898",
   "metadata": {},
   "outputs": [
    {
     "data": {
      "text/plain": [
       "True"
      ]
     },
     "execution_count": 68,
     "metadata": {},
     "output_type": "execute_result"
    }
   ],
   "source": [
    "a = 1\n",
    "b = 10\n",
    "\n",
    "a != b"
   ]
  },
  {
   "cell_type": "code",
   "execution_count": 69,
   "id": "5a2c8829",
   "metadata": {},
   "outputs": [
    {
     "data": {
      "text/plain": [
       "False"
      ]
     },
     "execution_count": 69,
     "metadata": {},
     "output_type": "execute_result"
    }
   ],
   "source": [
    "a = 1\n",
    "b = 10 \n",
    "\n",
    "a > b"
   ]
  },
  {
   "cell_type": "code",
   "execution_count": 71,
   "id": "a8a2e343",
   "metadata": {},
   "outputs": [],
   "source": [
    "#if \n",
    "\n",
    "saved_password = 1010\n",
    "new_pass = 1012\n",
    "\n",
    "if saved_password == new_pass:\n",
    "    print('Access given')"
   ]
  },
  {
   "cell_type": "code",
   "execution_count": 72,
   "id": "345dc2a6",
   "metadata": {},
   "outputs": [
    {
     "name": "stdout",
     "output_type": "stream",
     "text": [
      "Access given\n"
     ]
    }
   ],
   "source": [
    "saved_password = 1010\n",
    "new_pass = 1010\n",
    "\n",
    "if saved_password == new_pass:\n",
    "    print('Access given')"
   ]
  },
  {
   "cell_type": "code",
   "execution_count": 74,
   "id": "c9333700",
   "metadata": {},
   "outputs": [
    {
     "name": "stdout",
     "output_type": "stream",
     "text": [
      "Try Again\n"
     ]
    }
   ],
   "source": [
    "saved_password = 1010 \n",
    "new_pass = 1012\n",
    "\n",
    "if saved_password == new_pass:\n",
    "    print('Access Given')\n",
    "else:\n",
    "    print('Try Again')"
   ]
  },
  {
   "cell_type": "code",
   "execution_count": 79,
   "id": "000ef06a",
   "metadata": {},
   "outputs": [
    {
     "name": "stdout",
     "output_type": "stream",
     "text": [
      "$2\n"
     ]
    }
   ],
   "source": [
    "#Elif\n",
    "\n",
    "# age < 5 : ticket price $2\n",
    "# age < 18 : ticket price $7\n",
    "# age < 60 : ticket price $25\n",
    "# age > 60 : ticket price $15\n",
    "\n",
    "\n",
    "age = 4\n",
    "\n",
    "if age < 5:\n",
    "    print('$2')\n",
    "elif age < 18:\n",
    "    print('$7')\n",
    "elif age < 60:\n",
    "    print('$25')\n",
    "else:\n",
    "    print('$15')"
   ]
  },
  {
   "cell_type": "code",
   "execution_count": 81,
   "id": "c7bdc17e",
   "metadata": {},
   "outputs": [
    {
     "name": "stdout",
     "output_type": "stream",
     "text": [
      "$15\n"
     ]
    }
   ],
   "source": [
    "age = 61\n",
    "\n",
    "if age <= 5:\n",
    "    print('$2')\n",
    "elif age < 18:\n",
    "    print('$7')\n",
    "elif age < 60:\n",
    "    print('$25')\n",
    "else:\n",
    "    print('$15')"
   ]
  },
  {
   "cell_type": "code",
   "execution_count": 82,
   "id": "b6e8d433",
   "metadata": {},
   "outputs": [
    {
     "name": "stdout",
     "output_type": "stream",
     "text": [
      "\n"
     ]
    },
    {
     "data": {
      "text/plain": [
       "''"
      ]
     },
     "execution_count": 82,
     "metadata": {},
     "output_type": "execute_result"
    }
   ],
   "source": [
    "input()"
   ]
  },
  {
   "cell_type": "code",
   "execution_count": 83,
   "id": "f522a080",
   "metadata": {},
   "outputs": [
    {
     "data": {
      "text/plain": [
       "7"
      ]
     },
     "execution_count": 83,
     "metadata": {},
     "output_type": "execute_result"
    }
   ],
   "source": [
    "2+5"
   ]
  },
  {
   "cell_type": "code",
   "execution_count": 84,
   "id": "f92c03e7",
   "metadata": {},
   "outputs": [
    {
     "name": "stdout",
     "output_type": "stream",
     "text": [
      "Enter your age: 85\n"
     ]
    },
    {
     "data": {
      "text/plain": [
       "'85'"
      ]
     },
     "execution_count": 84,
     "metadata": {},
     "output_type": "execute_result"
    }
   ],
   "source": [
    "input('Enter your age: ')"
   ]
  },
  {
   "cell_type": "code",
   "execution_count": 85,
   "id": "e4de1d64",
   "metadata": {},
   "outputs": [
    {
     "name": "stdout",
     "output_type": "stream",
     "text": [
      "Enter your age: 65\n"
     ]
    }
   ],
   "source": [
    "abc = input('Enter your age: ')"
   ]
  },
  {
   "cell_type": "code",
   "execution_count": 86,
   "id": "aea1a743",
   "metadata": {},
   "outputs": [
    {
     "data": {
      "text/plain": [
       "'65'"
      ]
     },
     "execution_count": 86,
     "metadata": {},
     "output_type": "execute_result"
    }
   ],
   "source": [
    "abc"
   ]
  },
  {
   "cell_type": "code",
   "execution_count": 88,
   "id": "a002d799",
   "metadata": {},
   "outputs": [
    {
     "name": "stdout",
     "output_type": "stream",
     "text": [
      "Enter your age: 5\n",
      "$2\n"
     ]
    }
   ],
   "source": [
    "age = int(input('Enter your age: '))\n",
    "\n",
    "if age <= 5:\n",
    "    print('$2')\n",
    "elif age < 18:\n",
    "    print('$7')\n",
    "elif age < 60:\n",
    "    print('$25')\n",
    "else:\n",
    "    print('$15')"
   ]
  },
  {
   "cell_type": "markdown",
   "id": "bc45fce7",
   "metadata": {},
   "source": [
    "# For loop\n",
    "\n",
    "* Loops in python are used to do any similar task multiple times."
   ]
  },
  {
   "cell_type": "code",
   "execution_count": 2,
   "id": "a762ca9a",
   "metadata": {},
   "outputs": [
    {
     "data": {
      "text/plain": [
       "[1,\n",
       " 2,\n",
       " 3,\n",
       " 4,\n",
       " 5,\n",
       " 6,\n",
       " 7,\n",
       " 8,\n",
       " 9,\n",
       " 10,\n",
       " 11,\n",
       " 12,\n",
       " 13,\n",
       " 14,\n",
       " 15,\n",
       " 16,\n",
       " 17,\n",
       " 18,\n",
       " 19,\n",
       " 20,\n",
       " 21,\n",
       " 22,\n",
       " 23,\n",
       " 24,\n",
       " 25,\n",
       " 26,\n",
       " 27,\n",
       " 28,\n",
       " 29,\n",
       " 30,\n",
       " 31,\n",
       " 32,\n",
       " 33,\n",
       " 34,\n",
       " 35,\n",
       " 36,\n",
       " 37,\n",
       " 38,\n",
       " 39,\n",
       " 40,\n",
       " 41,\n",
       " 42,\n",
       " 43,\n",
       " 44,\n",
       " 45,\n",
       " 46,\n",
       " 47,\n",
       " 48,\n",
       " 49,\n",
       " 50,\n",
       " 51,\n",
       " 52,\n",
       " 53,\n",
       " 54,\n",
       " 55,\n",
       " 56,\n",
       " 57,\n",
       " 58,\n",
       " 59,\n",
       " 60,\n",
       " 61,\n",
       " 62,\n",
       " 63,\n",
       " 64,\n",
       " 65,\n",
       " 66,\n",
       " 67,\n",
       " 68,\n",
       " 69,\n",
       " 70,\n",
       " 71,\n",
       " 72,\n",
       " 73,\n",
       " 74,\n",
       " 75,\n",
       " 76,\n",
       " 77,\n",
       " 78,\n",
       " 79,\n",
       " 80,\n",
       " 81,\n",
       " 82,\n",
       " 83,\n",
       " 84,\n",
       " 85,\n",
       " 86,\n",
       " 87,\n",
       " 88,\n",
       " 89,\n",
       " 90,\n",
       " 91,\n",
       " 92,\n",
       " 93,\n",
       " 94,\n",
       " 95,\n",
       " 96,\n",
       " 97,\n",
       " 98,\n",
       " 99]"
      ]
     },
     "execution_count": 2,
     "metadata": {},
     "output_type": "execute_result"
    }
   ],
   "source": [
    "#Get the list of values from 0 to 100\n",
    "\n",
    "list(range(1,100))"
   ]
  },
  {
   "cell_type": "code",
   "execution_count": 4,
   "id": "100ccd6e",
   "metadata": {},
   "outputs": [
    {
     "name": "stdout",
     "output_type": "stream",
     "text": [
      "25600\n",
      "25600\n"
     ]
    }
   ],
   "source": [
    "print(160*160)\n",
    "print(160**2)"
   ]
  },
  {
   "cell_type": "code",
   "execution_count": 5,
   "id": "832fce5c",
   "metadata": {},
   "outputs": [
    {
     "name": "stdout",
     "output_type": "stream",
     "text": [
      "1\n",
      "2\n",
      "45\n",
      "78\n",
      "5\n",
      "9\n",
      "68\n",
      "2\n",
      "78\n",
      "59\n",
      "36\n",
      "24\n",
      "45\n",
      "19\n",
      "78\n",
      "36\n",
      "98\n",
      "78\n",
      "14\n",
      "25\n"
     ]
    }
   ],
   "source": [
    "lst = [1,2,45,78,5,9,68,2,78,59,36,24,45,19,78,36,98,78,14,25]\n",
    "\n",
    "for i in lst:\n",
    "    print(i)"
   ]
  },
  {
   "cell_type": "code",
   "execution_count": 6,
   "id": "0e6b2834",
   "metadata": {},
   "outputs": [
    {
     "name": "stdout",
     "output_type": "stream",
     "text": [
      "1\n",
      "4\n",
      "2025\n",
      "6084\n",
      "25\n",
      "81\n",
      "4624\n",
      "4\n",
      "6084\n",
      "3481\n",
      "1296\n",
      "576\n",
      "2025\n",
      "361\n",
      "6084\n",
      "1296\n",
      "9604\n",
      "6084\n",
      "196\n",
      "625\n"
     ]
    }
   ],
   "source": [
    "for i in lst:\n",
    "    print(i**2)"
   ]
  },
  {
   "cell_type": "code",
   "execution_count": 7,
   "id": "8e58ff90",
   "metadata": {},
   "outputs": [
    {
     "name": "stdout",
     "output_type": "stream",
     "text": [
      "625\n",
      "676\n",
      "729\n",
      "784\n",
      "841\n",
      "900\n",
      "961\n",
      "1024\n",
      "1089\n",
      "1156\n",
      "1225\n",
      "1296\n",
      "1369\n",
      "1444\n",
      "1521\n",
      "1600\n",
      "1681\n",
      "1764\n",
      "1849\n",
      "1936\n",
      "2025\n",
      "2116\n",
      "2209\n",
      "2304\n",
      "2401\n",
      "2500\n"
     ]
    }
   ],
   "source": [
    "for i in range(25,51):\n",
    "    print(i**2)"
   ]
  },
  {
   "cell_type": "code",
   "execution_count": 8,
   "id": "a5dc4ec8",
   "metadata": {},
   "outputs": [
    {
     "data": {
      "text/plain": [
       "'Python Session'"
      ]
     },
     "execution_count": 8,
     "metadata": {},
     "output_type": "execute_result"
    }
   ],
   "source": [
    "#String concatenation \n",
    "\n",
    "word1 = 'Python'\n",
    "word2 = 'Session'\n",
    "\n",
    "word1+' '+word2"
   ]
  },
  {
   "cell_type": "code",
   "execution_count": 9,
   "id": "c957ed0e",
   "metadata": {},
   "outputs": [
    {
     "data": {
      "text/plain": [
       "['amazon', 'flipkart', 'CDAC', 'myntra', 'samsung', 'apple']"
      ]
     },
     "execution_count": 9,
     "metadata": {},
     "output_type": "execute_result"
    }
   ],
   "source": [
    "company = ['amazon', 'flipkart', 'CDAC', 'myntra', 'samsung', 'apple']\n",
    "company"
   ]
  },
  {
   "cell_type": "code",
   "execution_count": 10,
   "id": "952c7617",
   "metadata": {},
   "outputs": [
    {
     "name": "stdout",
     "output_type": "stream",
     "text": [
      "www.amazon.com\n",
      "www.flipkart.com\n",
      "www.CDAC.com\n",
      "www.myntra.com\n",
      "www.samsung.com\n",
      "www.apple.com\n"
     ]
    }
   ],
   "source": [
    "for i in company:\n",
    "    print('www.'+i+'.com')"
   ]
  },
  {
   "cell_type": "markdown",
   "id": "67ea5dd1",
   "metadata": {},
   "source": [
    "* Separetly store all even value in list called as even.\n",
    "* store all odd numbers in diff list called as odd.\n",
    "* range 0,500"
   ]
  },
  {
   "cell_type": "code",
   "execution_count": 12,
   "id": "7564c87f",
   "metadata": {},
   "outputs": [
    {
     "name": "stdout",
     "output_type": "stream",
     "text": [
      "0\n",
      "1\n",
      "2\n",
      "3\n",
      "4\n",
      "5\n",
      "6\n",
      "7\n",
      "8\n",
      "9\n",
      "10\n",
      "11\n",
      "12\n",
      "13\n",
      "14\n",
      "15\n",
      "16\n",
      "17\n",
      "18\n",
      "19\n",
      "20\n",
      "21\n",
      "22\n",
      "23\n",
      "24\n",
      "25\n",
      "26\n",
      "27\n",
      "28\n",
      "29\n",
      "30\n",
      "31\n",
      "32\n",
      "33\n",
      "34\n",
      "35\n",
      "36\n",
      "37\n",
      "38\n",
      "39\n",
      "40\n",
      "41\n",
      "42\n",
      "43\n",
      "44\n",
      "45\n",
      "46\n",
      "47\n",
      "48\n",
      "49\n",
      "50\n",
      "51\n",
      "52\n",
      "53\n",
      "54\n",
      "55\n",
      "56\n",
      "57\n",
      "58\n",
      "59\n",
      "60\n",
      "61\n",
      "62\n",
      "63\n",
      "64\n",
      "65\n",
      "66\n",
      "67\n",
      "68\n",
      "69\n",
      "70\n",
      "71\n",
      "72\n",
      "73\n",
      "74\n",
      "75\n",
      "76\n",
      "77\n",
      "78\n",
      "79\n",
      "80\n",
      "81\n",
      "82\n",
      "83\n",
      "84\n",
      "85\n",
      "86\n",
      "87\n",
      "88\n",
      "89\n",
      "90\n",
      "91\n",
      "92\n",
      "93\n",
      "94\n",
      "95\n",
      "96\n",
      "97\n",
      "98\n",
      "99\n",
      "100\n",
      "101\n",
      "102\n",
      "103\n",
      "104\n",
      "105\n",
      "106\n",
      "107\n",
      "108\n",
      "109\n",
      "110\n",
      "111\n",
      "112\n",
      "113\n",
      "114\n",
      "115\n",
      "116\n",
      "117\n",
      "118\n",
      "119\n",
      "120\n",
      "121\n",
      "122\n",
      "123\n",
      "124\n",
      "125\n",
      "126\n",
      "127\n",
      "128\n",
      "129\n",
      "130\n",
      "131\n",
      "132\n",
      "133\n",
      "134\n",
      "135\n",
      "136\n",
      "137\n",
      "138\n",
      "139\n",
      "140\n",
      "141\n",
      "142\n",
      "143\n",
      "144\n",
      "145\n",
      "146\n",
      "147\n",
      "148\n",
      "149\n",
      "150\n",
      "151\n",
      "152\n",
      "153\n",
      "154\n",
      "155\n",
      "156\n",
      "157\n",
      "158\n",
      "159\n",
      "160\n",
      "161\n",
      "162\n",
      "163\n",
      "164\n",
      "165\n",
      "166\n",
      "167\n",
      "168\n",
      "169\n",
      "170\n",
      "171\n",
      "172\n",
      "173\n",
      "174\n",
      "175\n",
      "176\n",
      "177\n",
      "178\n",
      "179\n",
      "180\n",
      "181\n",
      "182\n",
      "183\n",
      "184\n",
      "185\n",
      "186\n",
      "187\n",
      "188\n",
      "189\n",
      "190\n",
      "191\n",
      "192\n",
      "193\n",
      "194\n",
      "195\n",
      "196\n",
      "197\n",
      "198\n",
      "199\n",
      "200\n",
      "201\n",
      "202\n",
      "203\n",
      "204\n",
      "205\n",
      "206\n",
      "207\n",
      "208\n",
      "209\n",
      "210\n",
      "211\n",
      "212\n",
      "213\n",
      "214\n",
      "215\n",
      "216\n",
      "217\n",
      "218\n",
      "219\n",
      "220\n",
      "221\n",
      "222\n",
      "223\n",
      "224\n",
      "225\n",
      "226\n",
      "227\n",
      "228\n",
      "229\n",
      "230\n",
      "231\n",
      "232\n",
      "233\n",
      "234\n",
      "235\n",
      "236\n",
      "237\n",
      "238\n",
      "239\n",
      "240\n",
      "241\n",
      "242\n",
      "243\n",
      "244\n",
      "245\n",
      "246\n",
      "247\n",
      "248\n",
      "249\n",
      "250\n",
      "251\n",
      "252\n",
      "253\n",
      "254\n",
      "255\n",
      "256\n",
      "257\n",
      "258\n",
      "259\n",
      "260\n",
      "261\n",
      "262\n",
      "263\n",
      "264\n",
      "265\n",
      "266\n",
      "267\n",
      "268\n",
      "269\n",
      "270\n",
      "271\n",
      "272\n",
      "273\n",
      "274\n",
      "275\n",
      "276\n",
      "277\n",
      "278\n",
      "279\n",
      "280\n",
      "281\n",
      "282\n",
      "283\n",
      "284\n",
      "285\n",
      "286\n",
      "287\n",
      "288\n",
      "289\n",
      "290\n",
      "291\n",
      "292\n",
      "293\n",
      "294\n",
      "295\n",
      "296\n",
      "297\n",
      "298\n",
      "299\n",
      "300\n",
      "301\n",
      "302\n",
      "303\n",
      "304\n",
      "305\n",
      "306\n",
      "307\n",
      "308\n",
      "309\n",
      "310\n",
      "311\n",
      "312\n",
      "313\n",
      "314\n",
      "315\n",
      "316\n",
      "317\n",
      "318\n",
      "319\n",
      "320\n",
      "321\n",
      "322\n",
      "323\n",
      "324\n",
      "325\n",
      "326\n",
      "327\n",
      "328\n",
      "329\n",
      "330\n",
      "331\n",
      "332\n",
      "333\n",
      "334\n",
      "335\n",
      "336\n",
      "337\n",
      "338\n",
      "339\n",
      "340\n",
      "341\n",
      "342\n",
      "343\n",
      "344\n",
      "345\n",
      "346\n",
      "347\n",
      "348\n",
      "349\n",
      "350\n",
      "351\n",
      "352\n",
      "353\n",
      "354\n",
      "355\n",
      "356\n",
      "357\n",
      "358\n",
      "359\n",
      "360\n",
      "361\n",
      "362\n",
      "363\n",
      "364\n",
      "365\n",
      "366\n",
      "367\n",
      "368\n",
      "369\n",
      "370\n",
      "371\n",
      "372\n",
      "373\n",
      "374\n",
      "375\n",
      "376\n",
      "377\n",
      "378\n",
      "379\n",
      "380\n",
      "381\n",
      "382\n",
      "383\n",
      "384\n",
      "385\n",
      "386\n",
      "387\n",
      "388\n",
      "389\n",
      "390\n",
      "391\n",
      "392\n",
      "393\n",
      "394\n",
      "395\n",
      "396\n",
      "397\n",
      "398\n",
      "399\n",
      "400\n",
      "401\n",
      "402\n",
      "403\n",
      "404\n",
      "405\n",
      "406\n",
      "407\n",
      "408\n",
      "409\n",
      "410\n",
      "411\n",
      "412\n",
      "413\n",
      "414\n",
      "415\n",
      "416\n",
      "417\n",
      "418\n",
      "419\n",
      "420\n",
      "421\n",
      "422\n",
      "423\n",
      "424\n",
      "425\n",
      "426\n",
      "427\n",
      "428\n",
      "429\n",
      "430\n",
      "431\n",
      "432\n",
      "433\n",
      "434\n",
      "435\n",
      "436\n",
      "437\n",
      "438\n",
      "439\n",
      "440\n",
      "441\n",
      "442\n",
      "443\n",
      "444\n",
      "445\n",
      "446\n",
      "447\n",
      "448\n",
      "449\n",
      "450\n",
      "451\n",
      "452\n",
      "453\n",
      "454\n",
      "455\n",
      "456\n",
      "457\n",
      "458\n",
      "459\n",
      "460\n",
      "461\n",
      "462\n",
      "463\n",
      "464\n",
      "465\n",
      "466\n",
      "467\n",
      "468\n",
      "469\n",
      "470\n",
      "471\n",
      "472\n",
      "473\n",
      "474\n",
      "475\n",
      "476\n",
      "477\n",
      "478\n",
      "479\n",
      "480\n",
      "481\n",
      "482\n",
      "483\n",
      "484\n",
      "485\n",
      "486\n",
      "487\n",
      "488\n",
      "489\n",
      "490\n",
      "491\n",
      "492\n",
      "493\n",
      "494\n",
      "495\n",
      "496\n",
      "497\n",
      "498\n",
      "499\n",
      "500\n"
     ]
    }
   ],
   "source": [
    "for i in range(0,501):\n",
    "    print(i)"
   ]
  },
  {
   "cell_type": "code",
   "execution_count": 13,
   "id": "84684730",
   "metadata": {},
   "outputs": [],
   "source": [
    "even = []\n",
    "odd = []\n",
    "\n",
    "for i in range(0,501):\n",
    "    if i%2 == 0:\n",
    "        even.append(i)\n",
    "    else:\n",
    "        odd.append(i)"
   ]
  },
  {
   "cell_type": "code",
   "execution_count": 14,
   "id": "301b45cb",
   "metadata": {},
   "outputs": [
    {
     "data": {
      "text/plain": [
       "[0,\n",
       " 2,\n",
       " 4,\n",
       " 6,\n",
       " 8,\n",
       " 10,\n",
       " 12,\n",
       " 14,\n",
       " 16,\n",
       " 18,\n",
       " 20,\n",
       " 22,\n",
       " 24,\n",
       " 26,\n",
       " 28,\n",
       " 30,\n",
       " 32,\n",
       " 34,\n",
       " 36,\n",
       " 38,\n",
       " 40,\n",
       " 42,\n",
       " 44,\n",
       " 46,\n",
       " 48,\n",
       " 50,\n",
       " 52,\n",
       " 54,\n",
       " 56,\n",
       " 58,\n",
       " 60,\n",
       " 62,\n",
       " 64,\n",
       " 66,\n",
       " 68,\n",
       " 70,\n",
       " 72,\n",
       " 74,\n",
       " 76,\n",
       " 78,\n",
       " 80,\n",
       " 82,\n",
       " 84,\n",
       " 86,\n",
       " 88,\n",
       " 90,\n",
       " 92,\n",
       " 94,\n",
       " 96,\n",
       " 98,\n",
       " 100,\n",
       " 102,\n",
       " 104,\n",
       " 106,\n",
       " 108,\n",
       " 110,\n",
       " 112,\n",
       " 114,\n",
       " 116,\n",
       " 118,\n",
       " 120,\n",
       " 122,\n",
       " 124,\n",
       " 126,\n",
       " 128,\n",
       " 130,\n",
       " 132,\n",
       " 134,\n",
       " 136,\n",
       " 138,\n",
       " 140,\n",
       " 142,\n",
       " 144,\n",
       " 146,\n",
       " 148,\n",
       " 150,\n",
       " 152,\n",
       " 154,\n",
       " 156,\n",
       " 158,\n",
       " 160,\n",
       " 162,\n",
       " 164,\n",
       " 166,\n",
       " 168,\n",
       " 170,\n",
       " 172,\n",
       " 174,\n",
       " 176,\n",
       " 178,\n",
       " 180,\n",
       " 182,\n",
       " 184,\n",
       " 186,\n",
       " 188,\n",
       " 190,\n",
       " 192,\n",
       " 194,\n",
       " 196,\n",
       " 198,\n",
       " 200,\n",
       " 202,\n",
       " 204,\n",
       " 206,\n",
       " 208,\n",
       " 210,\n",
       " 212,\n",
       " 214,\n",
       " 216,\n",
       " 218,\n",
       " 220,\n",
       " 222,\n",
       " 224,\n",
       " 226,\n",
       " 228,\n",
       " 230,\n",
       " 232,\n",
       " 234,\n",
       " 236,\n",
       " 238,\n",
       " 240,\n",
       " 242,\n",
       " 244,\n",
       " 246,\n",
       " 248,\n",
       " 250,\n",
       " 252,\n",
       " 254,\n",
       " 256,\n",
       " 258,\n",
       " 260,\n",
       " 262,\n",
       " 264,\n",
       " 266,\n",
       " 268,\n",
       " 270,\n",
       " 272,\n",
       " 274,\n",
       " 276,\n",
       " 278,\n",
       " 280,\n",
       " 282,\n",
       " 284,\n",
       " 286,\n",
       " 288,\n",
       " 290,\n",
       " 292,\n",
       " 294,\n",
       " 296,\n",
       " 298,\n",
       " 300,\n",
       " 302,\n",
       " 304,\n",
       " 306,\n",
       " 308,\n",
       " 310,\n",
       " 312,\n",
       " 314,\n",
       " 316,\n",
       " 318,\n",
       " 320,\n",
       " 322,\n",
       " 324,\n",
       " 326,\n",
       " 328,\n",
       " 330,\n",
       " 332,\n",
       " 334,\n",
       " 336,\n",
       " 338,\n",
       " 340,\n",
       " 342,\n",
       " 344,\n",
       " 346,\n",
       " 348,\n",
       " 350,\n",
       " 352,\n",
       " 354,\n",
       " 356,\n",
       " 358,\n",
       " 360,\n",
       " 362,\n",
       " 364,\n",
       " 366,\n",
       " 368,\n",
       " 370,\n",
       " 372,\n",
       " 374,\n",
       " 376,\n",
       " 378,\n",
       " 380,\n",
       " 382,\n",
       " 384,\n",
       " 386,\n",
       " 388,\n",
       " 390,\n",
       " 392,\n",
       " 394,\n",
       " 396,\n",
       " 398,\n",
       " 400,\n",
       " 402,\n",
       " 404,\n",
       " 406,\n",
       " 408,\n",
       " 410,\n",
       " 412,\n",
       " 414,\n",
       " 416,\n",
       " 418,\n",
       " 420,\n",
       " 422,\n",
       " 424,\n",
       " 426,\n",
       " 428,\n",
       " 430,\n",
       " 432,\n",
       " 434,\n",
       " 436,\n",
       " 438,\n",
       " 440,\n",
       " 442,\n",
       " 444,\n",
       " 446,\n",
       " 448,\n",
       " 450,\n",
       " 452,\n",
       " 454,\n",
       " 456,\n",
       " 458,\n",
       " 460,\n",
       " 462,\n",
       " 464,\n",
       " 466,\n",
       " 468,\n",
       " 470,\n",
       " 472,\n",
       " 474,\n",
       " 476,\n",
       " 478,\n",
       " 480,\n",
       " 482,\n",
       " 484,\n",
       " 486,\n",
       " 488,\n",
       " 490,\n",
       " 492,\n",
       " 494,\n",
       " 496,\n",
       " 498,\n",
       " 500]"
      ]
     },
     "execution_count": 14,
     "metadata": {},
     "output_type": "execute_result"
    }
   ],
   "source": [
    "even"
   ]
  },
  {
   "cell_type": "code",
   "execution_count": 15,
   "id": "98fa4fcc",
   "metadata": {},
   "outputs": [
    {
     "data": {
      "text/plain": [
       "[1,\n",
       " 3,\n",
       " 5,\n",
       " 7,\n",
       " 9,\n",
       " 11,\n",
       " 13,\n",
       " 15,\n",
       " 17,\n",
       " 19,\n",
       " 21,\n",
       " 23,\n",
       " 25,\n",
       " 27,\n",
       " 29,\n",
       " 31,\n",
       " 33,\n",
       " 35,\n",
       " 37,\n",
       " 39,\n",
       " 41,\n",
       " 43,\n",
       " 45,\n",
       " 47,\n",
       " 49,\n",
       " 51,\n",
       " 53,\n",
       " 55,\n",
       " 57,\n",
       " 59,\n",
       " 61,\n",
       " 63,\n",
       " 65,\n",
       " 67,\n",
       " 69,\n",
       " 71,\n",
       " 73,\n",
       " 75,\n",
       " 77,\n",
       " 79,\n",
       " 81,\n",
       " 83,\n",
       " 85,\n",
       " 87,\n",
       " 89,\n",
       " 91,\n",
       " 93,\n",
       " 95,\n",
       " 97,\n",
       " 99,\n",
       " 101,\n",
       " 103,\n",
       " 105,\n",
       " 107,\n",
       " 109,\n",
       " 111,\n",
       " 113,\n",
       " 115,\n",
       " 117,\n",
       " 119,\n",
       " 121,\n",
       " 123,\n",
       " 125,\n",
       " 127,\n",
       " 129,\n",
       " 131,\n",
       " 133,\n",
       " 135,\n",
       " 137,\n",
       " 139,\n",
       " 141,\n",
       " 143,\n",
       " 145,\n",
       " 147,\n",
       " 149,\n",
       " 151,\n",
       " 153,\n",
       " 155,\n",
       " 157,\n",
       " 159,\n",
       " 161,\n",
       " 163,\n",
       " 165,\n",
       " 167,\n",
       " 169,\n",
       " 171,\n",
       " 173,\n",
       " 175,\n",
       " 177,\n",
       " 179,\n",
       " 181,\n",
       " 183,\n",
       " 185,\n",
       " 187,\n",
       " 189,\n",
       " 191,\n",
       " 193,\n",
       " 195,\n",
       " 197,\n",
       " 199,\n",
       " 201,\n",
       " 203,\n",
       " 205,\n",
       " 207,\n",
       " 209,\n",
       " 211,\n",
       " 213,\n",
       " 215,\n",
       " 217,\n",
       " 219,\n",
       " 221,\n",
       " 223,\n",
       " 225,\n",
       " 227,\n",
       " 229,\n",
       " 231,\n",
       " 233,\n",
       " 235,\n",
       " 237,\n",
       " 239,\n",
       " 241,\n",
       " 243,\n",
       " 245,\n",
       " 247,\n",
       " 249,\n",
       " 251,\n",
       " 253,\n",
       " 255,\n",
       " 257,\n",
       " 259,\n",
       " 261,\n",
       " 263,\n",
       " 265,\n",
       " 267,\n",
       " 269,\n",
       " 271,\n",
       " 273,\n",
       " 275,\n",
       " 277,\n",
       " 279,\n",
       " 281,\n",
       " 283,\n",
       " 285,\n",
       " 287,\n",
       " 289,\n",
       " 291,\n",
       " 293,\n",
       " 295,\n",
       " 297,\n",
       " 299,\n",
       " 301,\n",
       " 303,\n",
       " 305,\n",
       " 307,\n",
       " 309,\n",
       " 311,\n",
       " 313,\n",
       " 315,\n",
       " 317,\n",
       " 319,\n",
       " 321,\n",
       " 323,\n",
       " 325,\n",
       " 327,\n",
       " 329,\n",
       " 331,\n",
       " 333,\n",
       " 335,\n",
       " 337,\n",
       " 339,\n",
       " 341,\n",
       " 343,\n",
       " 345,\n",
       " 347,\n",
       " 349,\n",
       " 351,\n",
       " 353,\n",
       " 355,\n",
       " 357,\n",
       " 359,\n",
       " 361,\n",
       " 363,\n",
       " 365,\n",
       " 367,\n",
       " 369,\n",
       " 371,\n",
       " 373,\n",
       " 375,\n",
       " 377,\n",
       " 379,\n",
       " 381,\n",
       " 383,\n",
       " 385,\n",
       " 387,\n",
       " 389,\n",
       " 391,\n",
       " 393,\n",
       " 395,\n",
       " 397,\n",
       " 399,\n",
       " 401,\n",
       " 403,\n",
       " 405,\n",
       " 407,\n",
       " 409,\n",
       " 411,\n",
       " 413,\n",
       " 415,\n",
       " 417,\n",
       " 419,\n",
       " 421,\n",
       " 423,\n",
       " 425,\n",
       " 427,\n",
       " 429,\n",
       " 431,\n",
       " 433,\n",
       " 435,\n",
       " 437,\n",
       " 439,\n",
       " 441,\n",
       " 443,\n",
       " 445,\n",
       " 447,\n",
       " 449,\n",
       " 451,\n",
       " 453,\n",
       " 455,\n",
       " 457,\n",
       " 459,\n",
       " 461,\n",
       " 463,\n",
       " 465,\n",
       " 467,\n",
       " 469,\n",
       " 471,\n",
       " 473,\n",
       " 475,\n",
       " 477,\n",
       " 479,\n",
       " 481,\n",
       " 483,\n",
       " 485,\n",
       " 487,\n",
       " 489,\n",
       " 491,\n",
       " 493,\n",
       " 495,\n",
       " 497,\n",
       " 499]"
      ]
     },
     "execution_count": 15,
     "metadata": {},
     "output_type": "execute_result"
    }
   ],
   "source": [
    "odd"
   ]
  },
  {
   "cell_type": "markdown",
   "id": "f304a3c9",
   "metadata": {},
   "source": [
    "# Functions\n",
    "\n",
    "* Python supports two types of function:\n",
    "    * Built in\n",
    "    * User defined"
   ]
  },
  {
   "cell_type": "code",
   "execution_count": 17,
   "id": "abe9591c",
   "metadata": {},
   "outputs": [
    {
     "name": "stdout",
     "output_type": "stream",
     "text": [
      "78\n"
     ]
    }
   ],
   "source": [
    "print(78)"
   ]
  },
  {
   "cell_type": "code",
   "execution_count": 21,
   "id": "49892887",
   "metadata": {},
   "outputs": [],
   "source": [
    "def greet():\n",
    "    print('Hello user')\n",
    "    print('Hi')"
   ]
  },
  {
   "cell_type": "code",
   "execution_count": 22,
   "id": "5bcba10a",
   "metadata": {},
   "outputs": [
    {
     "name": "stdout",
     "output_type": "stream",
     "text": [
      "Hello user\n",
      "Hi\n"
     ]
    }
   ],
   "source": [
    "greet()"
   ]
  },
  {
   "cell_type": "code",
   "execution_count": 23,
   "id": "d1172ab9",
   "metadata": {},
   "outputs": [],
   "source": [
    "def add():\n",
    "    print(5+84644)"
   ]
  },
  {
   "cell_type": "code",
   "execution_count": 24,
   "id": "87e3803b",
   "metadata": {},
   "outputs": [
    {
     "name": "stdout",
     "output_type": "stream",
     "text": [
      "84649\n"
     ]
    }
   ],
   "source": [
    "add()"
   ]
  },
  {
   "cell_type": "code",
   "execution_count": 25,
   "id": "eee2d79f",
   "metadata": {},
   "outputs": [],
   "source": [
    "#With arguments\n",
    "\n",
    "def add(num1, num2):\n",
    "    print(num1+num2)"
   ]
  },
  {
   "cell_type": "code",
   "execution_count": 26,
   "id": "c31f6ca9",
   "metadata": {},
   "outputs": [
    {
     "name": "stdout",
     "output_type": "stream",
     "text": [
      "18887\n"
     ]
    }
   ],
   "source": [
    "add(8888,9999)"
   ]
  },
  {
   "cell_type": "code",
   "execution_count": 31,
   "id": "0e5f8890",
   "metadata": {},
   "outputs": [],
   "source": [
    "def multiply():\n",
    "    num1 = int(input('Enter first number : '))\n",
    "    num2 = int(input('Enter second number : '))\n",
    "    print(num1*num2)"
   ]
  },
  {
   "cell_type": "code",
   "execution_count": 32,
   "id": "62f1a26c",
   "metadata": {},
   "outputs": [
    {
     "name": "stdout",
     "output_type": "stream",
     "text": [
      "Enter first number : 5\n",
      "Enter second number : 2\n",
      "10\n"
     ]
    }
   ],
   "source": [
    "multiply()"
   ]
  },
  {
   "cell_type": "markdown",
   "id": "fd1e1adb",
   "metadata": {},
   "source": [
    "# Format string"
   ]
  },
  {
   "cell_type": "code",
   "execution_count": 33,
   "id": "82f1519f",
   "metadata": {},
   "outputs": [],
   "source": [
    "name = 'Shubham'\n",
    "age = 25\n",
    "location = 'Pune'"
   ]
  },
  {
   "cell_type": "markdown",
   "id": "db747403",
   "metadata": {},
   "source": [
    "* Print the sentence: Name of the customer 'name'. He is 'age' yrs old. He lives in 'location'"
   ]
  },
  {
   "cell_type": "code",
   "execution_count": 34,
   "id": "6d12fc0a",
   "metadata": {},
   "outputs": [
    {
     "name": "stdout",
     "output_type": "stream",
     "text": [
      "Name of the customer name. He is age yrs old. He live in location.\n"
     ]
    }
   ],
   "source": [
    "print('Name of the customer name. He is age yrs old. He live in location.')"
   ]
  },
  {
   "cell_type": "code",
   "execution_count": 35,
   "id": "252b75ca",
   "metadata": {},
   "outputs": [
    {
     "name": "stdout",
     "output_type": "stream",
     "text": [
      "Name of customer Shubham He is 25 yrs old. He lives in Pune\n"
     ]
    }
   ],
   "source": [
    "print('Name of customer',name, 'He is' ,age, 'yrs old.','He lives in', location)"
   ]
  },
  {
   "cell_type": "code",
   "execution_count": 38,
   "id": "ca43dfd6",
   "metadata": {},
   "outputs": [
    {
     "name": "stdout",
     "output_type": "stream",
     "text": [
      "Name of customer is Shubham.He is 25 yrs old. He lives in Pune\n"
     ]
    }
   ],
   "source": [
    "# format string \n",
    "\n",
    "print(f\"Name of customer is {name}.He is {age} yrs old. He lives in {location}\")"
   ]
  },
  {
   "cell_type": "code",
   "execution_count": null,
   "id": "dd0f4fbc",
   "metadata": {},
   "outputs": [],
   "source": []
  }
 ],
 "metadata": {
  "kernelspec": {
   "display_name": "Python 3 (ipykernel)",
   "language": "python",
   "name": "python3"
  },
  "language_info": {
   "codemirror_mode": {
    "name": "ipython",
    "version": 3
   },
   "file_extension": ".py",
   "mimetype": "text/x-python",
   "name": "python",
   "nbconvert_exporter": "python",
   "pygments_lexer": "ipython3",
   "version": "3.11.3"
  }
 },
 "nbformat": 4,
 "nbformat_minor": 5
}
