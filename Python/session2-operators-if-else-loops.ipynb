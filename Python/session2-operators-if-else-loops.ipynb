{
 "cells": [
  {
   "cell_type": "markdown",
   "id": "2226ef3e",
   "metadata": {},
   "source": [
    "# Operators in python\n",
    "\n",
    "   * Arithmatic Operators\n",
    "   * Relational Operators\n",
    "   * Logical Operators\n",
    "   * Bitwise Operators\n",
    "   * Assignment Operators\n",
    "   * Membership Operators"
   ]
  },
  {
   "cell_type": "code",
   "execution_count": 5,
   "id": "e6c3113c",
   "metadata": {},
   "outputs": [
    {
     "name": "stdout",
     "output_type": "stream",
     "text": [
      "11\n",
      "-1\n",
      "30\n",
      "2.5\n",
      "2\n",
      "1\n",
      "25\n"
     ]
    }
   ],
   "source": [
    "# Arithmetic Operator\n",
    "\n",
    "print(5+6)\n",
    "\n",
    "print(5-6)\n",
    "\n",
    "print(5*6)\n",
    "\n",
    "print(5/2)\n",
    "\n",
    "print(5//2)\n",
    "\n",
    "print(5%2)\n",
    "\n",
    "print(5**2)"
   ]
  },
  {
   "cell_type": "code",
   "execution_count": 2,
   "id": "60759f47",
   "metadata": {},
   "outputs": [
    {
     "name": "stdout",
     "output_type": "stream",
     "text": [
      "False\n",
      "True\n",
      "True\n",
      "True\n",
      "True\n",
      "False\n"
     ]
    }
   ],
   "source": [
    "# Relational Operators\n",
    "\n",
    "print(4 > 5)\n",
    "\n",
    "print(4 < 5)\n",
    "\n",
    "print(4 >= 4)\n",
    "\n",
    "print(4 <= 4)\n",
    "\n",
    "print(4 == 4)\n",
    "\n",
    "print(4 != 4)"
   ]
  },
  {
   "cell_type": "code",
   "execution_count": 5,
   "id": "65a89919",
   "metadata": {},
   "outputs": [
    {
     "name": "stdout",
     "output_type": "stream",
     "text": [
      "0\n",
      "1\n",
      "False\n"
     ]
    }
   ],
   "source": [
    "# Logical Operator\n",
    "\n",
    "print(1 and 0)\n",
    "\n",
    "print(1 or 0)\n",
    "\n",
    "print(not 1)"
   ]
  },
  {
   "cell_type": "code",
   "execution_count": 11,
   "id": "fb402ede",
   "metadata": {},
   "outputs": [
    {
     "name": "stdout",
     "output_type": "stream",
     "text": [
      "2\n",
      "3\n",
      "1\n",
      "-4\n",
      "1\n",
      "20\n"
     ]
    }
   ],
   "source": [
    "# Bitwise Operator\n",
    "\n",
    "# Bitwise and\n",
    "print(2 & 3)\n",
    "\n",
    "# Bitwise or\n",
    "print(2 | 3)\n",
    "\n",
    "# Bitwise xor\n",
    "print(2 ^ 3)\n",
    "\n",
    "# Bitwise Not\n",
    "print(~3)\n",
    "\n",
    "# bitwise left shift\n",
    "print(4 >> 2)\n",
    "\n",
    "# bitwise right shift\n",
    "print(5 << 2)"
   ]
  },
  {
   "cell_type": "code",
   "execution_count": 12,
   "id": "9e538a3a",
   "metadata": {},
   "outputs": [
    {
     "name": "stdout",
     "output_type": "stream",
     "text": [
      "4\n"
     ]
    }
   ],
   "source": [
    "# Assignment Operator\n",
    "\n",
    "# = \n",
    "# a = 2\n",
    "\n",
    "a = 2\n",
    "\n",
    "# a = a + 2\n",
    "a += 2\n",
    "\n",
    "# a++ ++a\n",
    "\n",
    "print(a)"
   ]
  },
  {
   "cell_type": "code",
   "execution_count": 16,
   "id": "a5973df9",
   "metadata": {},
   "outputs": [
    {
     "name": "stdout",
     "output_type": "stream",
     "text": [
      "True\n",
      "False\n",
      "False\n"
     ]
    }
   ],
   "source": [
    "# Membership operator\n",
    "\n",
    "# in / not in\n",
    "\n",
    "print('D' in 'Delhi')\n",
    "\n",
    "print('D' not in 'Delhi')\n",
    "\n",
    "print(1 in [2,3,4,5,6])"
   ]
  },
  {
   "cell_type": "code",
   "execution_count": 21,
   "id": "c6d4341a",
   "metadata": {},
   "outputs": [
    {
     "name": "stdout",
     "output_type": "stream",
     "text": [
      "Enter a 3 digit number : 666\n",
      "18\n"
     ]
    }
   ],
   "source": [
    "# Program - Find the sum of a 3 digit number entered by the user\n",
    "\n",
    "number = int(input('Enter a 3 digit number : '))\n",
    "\n",
    "# 345%10 -> 5\n",
    "a = number%10\n",
    "\n",
    "number = number//10\n",
    "\n",
    "# 34%10 -> 4\n",
    "b = number%10\n",
    "\n",
    "number = number//10\n",
    "\n",
    "# 3%10 -> 3\n",
    "c = number%10\n",
    "\n",
    "print(a + b + c)"
   ]
  },
  {
   "cell_type": "markdown",
   "id": "423e5550",
   "metadata": {},
   "source": [
    "# if-else in Python"
   ]
  },
  {
   "cell_type": "code",
   "execution_count": 26,
   "id": "755ba294",
   "metadata": {},
   "outputs": [
    {
     "name": "stdout",
     "output_type": "stream",
     "text": [
      "enter email : nitish.campusx@gmail.com\n",
      "enter password : 78899\n",
      "incorrect password\n",
      "enter password again8788\n",
      "beta tumse na ho payega!\n"
     ]
    }
   ],
   "source": [
    "# login program and indentation\n",
    "# email -> nitish.campusx@gmail.com\n",
    "# password -> 1234\n",
    "\n",
    "email = input('enter email : ')\n",
    "password = input('enter password : ')\n",
    "\n",
    "if email == 'nitish.campusx@gmail.com' and password == '1234':\n",
    "    print('Welcome')\n",
    "elif email == 'nitish.campusx@gmail.com' and password != '1234':\n",
    "    # tell the user \n",
    "    print('incorrect password')\n",
    "    password = input('enter password again')\n",
    "    if password == '1234':\n",
    "        print('welcome,finally')\n",
    "    else:\n",
    "        print('beta tumse na ho payega!')\n",
    "else:\n",
    "    print('Not correct')"
   ]
  },
  {
   "cell_type": "code",
   "execution_count": 27,
   "id": "861c114b",
   "metadata": {},
   "outputs": [],
   "source": [
    "# if-else examples\n",
    "# 1. Find the min of 3 given numbers\n",
    "# 2. Menu Driven program"
   ]
  },
  {
   "cell_type": "code",
   "execution_count": 31,
   "id": "63b593f9",
   "metadata": {},
   "outputs": [
    {
     "name": "stdout",
     "output_type": "stream",
     "text": [
      "first num : 3\n",
      "second num : 3\n",
      "third num : 3\n",
      "smallest is : 3\n"
     ]
    }
   ],
   "source": [
    "# min of 3 number\n",
    "\n",
    "a = int(input('first num : '))\n",
    "b = int(input('second num : '))\n",
    "c = int(input('third num : '))\n",
    "\n",
    "if a < b and a < c:\n",
    "    print('smallest is : ',a)\n",
    "elif b < c:\n",
    "    print('smallest is : ',b)\n",
    "else:\n",
    "    print('smallest is :',c)"
   ]
  },
  {
   "cell_type": "code",
   "execution_count": 32,
   "id": "6a1798aa",
   "metadata": {},
   "outputs": [
    {
     "name": "stdout",
     "output_type": "stream",
     "text": [
      "enter the 1st number 34\n",
      "enter the 2nd number 23\n",
      "Enter the operation /\n",
      "1.4782608695652173\n"
     ]
    }
   ],
   "source": [
    "# menu driven calculator\n",
    "fnum = int(input('enter the 1st number '))\n",
    "snum = int(input('enter the 2nd number '))\n",
    "\n",
    "op = input('Enter the operation ')\n",
    "\n",
    "if op == '+':\n",
    "    print(fnum + snum)\n",
    "elif op == '-':\n",
    "    print(fnum - snum)\n",
    "elif op == '*':\n",
    "    print(fnum * snum)\n",
    "else:\n",
    "    print(fnum / snum)"
   ]
  },
  {
   "cell_type": "code",
   "execution_count": 33,
   "id": "953c271f",
   "metadata": {},
   "outputs": [
    {
     "name": "stdout",
     "output_type": "stream",
     "text": [
      "\n",
      "Hi! how can i help you.\n",
      "1. Enter 1 for pin change\n",
      "2. Enter 2 for balance check\n",
      "3. Enter 3 for withdrawl\n",
      "4. Enter 4 for exit\n",
      "2\n",
      "balance\n"
     ]
    }
   ],
   "source": [
    "menu = input(\"\"\"\n",
    "Hi! how can i help you.\n",
    "1. Enter 1 for pin change\n",
    "2. Enter 2 for balance check\n",
    "3. Enter 3 for withdrawl\n",
    "4. Enter 4 for exit\n",
    "\"\"\")\n",
    "\n",
    "if menu == '1':\n",
    "    print('pin change')\n",
    "elif menu == '2':\n",
    "    print('balance')\n",
    "else:\n",
    "    print('exit')"
   ]
  },
  {
   "cell_type": "markdown",
   "id": "4f6eb05a",
   "metadata": {},
   "source": [
    "# Modules in Python\n",
    "   * math\n",
    "   * keywords\n",
    "   * random\n",
    "   * datetime"
   ]
  },
  {
   "cell_type": "code",
   "execution_count": 37,
   "id": "34461660",
   "metadata": {},
   "outputs": [
    {
     "data": {
      "text/plain": [
       "14.0"
      ]
     },
     "execution_count": 37,
     "metadata": {},
     "output_type": "execute_result"
    }
   ],
   "source": [
    "# math\n",
    "\n",
    "import math\n",
    "\n",
    "math.factorial(5)\n",
    "\n",
    "math.floor(6.8)\n",
    "\n",
    "math.sqrt(196)"
   ]
  },
  {
   "cell_type": "code",
   "execution_count": 38,
   "id": "a40cfc4d",
   "metadata": {},
   "outputs": [
    {
     "name": "stdout",
     "output_type": "stream",
     "text": [
      "['False', 'None', 'True', 'and', 'as', 'assert', 'async', 'await', 'break', 'class', 'continue', 'def', 'del', 'elif', 'else', 'except', 'finally', 'for', 'from', 'global', 'if', 'import', 'in', 'is', 'lambda', 'nonlocal', 'not', 'or', 'pass', 'raise', 'return', 'try', 'while', 'with', 'yield']\n"
     ]
    }
   ],
   "source": [
    "# keyword\n",
    "\n",
    "import keyword\n",
    "\n",
    "print(keyword.kwlist)"
   ]
  },
  {
   "cell_type": "code",
   "execution_count": 42,
   "id": "86c63737",
   "metadata": {},
   "outputs": [
    {
     "name": "stdout",
     "output_type": "stream",
     "text": [
      "6\n"
     ]
    }
   ],
   "source": [
    "# random\n",
    "import random\n",
    "\n",
    "print(random.randint(1,100))"
   ]
  },
  {
   "cell_type": "code",
   "execution_count": 44,
   "id": "30ff472c",
   "metadata": {},
   "outputs": [
    {
     "name": "stdout",
     "output_type": "stream",
     "text": [
      "2024-07-23 19:55:25.086395\n"
     ]
    }
   ],
   "source": [
    "# datetime\n",
    "import datetime\n",
    "print(datetime.datetime.now())"
   ]
  },
  {
   "cell_type": "code",
   "execution_count": 46,
   "id": "c9e86d16",
   "metadata": {},
   "outputs": [
    {
     "name": "stdout",
     "output_type": "stream",
     "text": [
      "\n",
      "Please wait a moment while I gather a list of all available modules...\n",
      "\n"
     ]
    },
    {
     "name": "stderr",
     "output_type": "stream",
     "text": [
      "WARNING: AstropyDeprecationWarning: The private astropy._erfa module has been made into its own package, pyerfa, which is a dependency of astropy and can be imported directly using \"import erfa\" [astropy._erfa]\n",
      "C:\\Users\\lenovo\\anaconda3\\Lib\\site-packages\\paramiko\\transport.py:219: CryptographyDeprecationWarning:\n",
      "\n",
      "Blowfish has been deprecated\n",
      "\n",
      "UserWarning: Thank you for using the Modin Experimental pandas API.\n",
      "Please note that some of these APIs deviate from pandas in order to provide improved performance.\n",
      "UserWarning: The twython library has not been installed. Some functionality from the twitter package will not be available.\n",
      "NumbaPendingDeprecationWarning: \u001b[1mThe 'pycc' module is pending deprecation. Replacement technology is being developed.\n",
      "\n",
      "Pending Deprecation in Numba 0.57.0. For more information please see: https://numba.readthedocs.io/en/stable/reference/deprecation.html#deprecation-of-the-numba-pycc-module\u001b[0m\n",
      "UserWarning: The numpy.array_api submodule is still experimental. See NEP 47.\n",
      "UserWarning: Setuptools is replacing distutils.\n",
      "2024-07-23 19:57:08,200\tWARNING collective.py:20 -- NCCL seems unavailable. Please install Cupy following the guide at: https://docs.cupy.dev/en/stable/install.html.\n",
      "No QCoreApplication instance found. Application patches not applied. You have to call load_stylesheet function after instantiation of QApplication to take effect. \n",
      "Neither PyTorch nor TensorFlow >= 2.0 have been found.Models won't be available and only tokenizers, configurationand file/data utilities can be used.\n",
      "C:\\Users\\lenovo\\anaconda3\\Lib\\pkgutil.py:107: VisibleDeprecationWarning:\n",
      "\n",
      "zmq.eventloop.minitornado is deprecated in pyzmq 14.0 and will be removed.\n",
      "    Install tornado itself to use zmq with the tornado IOLoop.\n",
      "    \n",
      "\n"
     ]
    },
    {
     "name": "stdout",
     "output_type": "stream",
     "text": [
      "IPython             concurrent          mdit_py_plugins     sklearnex\n",
      "OpenSSL             conda               mdurl               slugify\n",
      "PIL                 conda_build         menuinst            smart_open\n",
      "PyQt5               conda_content_trust mimetypes           smtpd\n",
      "TBB                 conda_env           mistune             smtplib\n",
      "__future__          conda_index         mkl                 snappy\n",
      "__hello__           conda_libmamba_solver mkl_fft             sndhdr\n",
      "__phello__          conda_pack          mkl_random          sniffio\n",
      "_abc                conda_package_handling mmap                snowballstemmer\n",
      "_aix_support        conda_package_streaming mmapfile            socket\n",
      "_argon2_cffi_bindings conda_token         mmsystem            socketserver\n",
      "_ast                conda_verify        modin               socks\n",
      "_asyncio            configparser        modulefinder        sockshandler\n",
      "_bisect             constantly          more_itertools      sortedcontainers\n",
      "_black_version      contextlib          mpmath              soupsieve\n",
      "_blake2             contextvars         msgpack             sphinx\n",
      "_bootsubprocess     contourpy           msilib              spyder\n",
      "_bz2                cookiecutter        msvcrt              spyder_kernels\n",
      "_cffi_backend       copy                multidict           sqlalchemy\n",
      "_codecs             copyreg             multipledispatch    sqlite3\n",
      "_codecs_cn          cpuinfo             multiprocessing     sre_compile\n",
      "_codecs_hk          crypt               munkres             sre_constants\n",
      "_codecs_iso2022     cryptography        mypy_extensions     sre_parse\n",
      "_codecs_jp          cssselect           nacl                ssl\n",
      "_codecs_kr          csv                 navigator_updater   sspi\n",
      "_codecs_tw          ctypes              nbclassic           sspicon\n",
      "_collections        cufflinks           nbclient            stack_data\n",
      "_collections_abc    curl                nbconvert           stat\n",
      "_compat_pickle      curses              nbformat            statistics\n",
      "_compression        cv2                 nest_asyncio        statsmodels\n",
      "_contextvars        cwp                 netbios             string\n",
      "_csv                cycler              netrc               stringprep\n",
      "_ctypes             cytoolz             networkx            struct\n",
      "_ctypes_test        daal4py             nltk                subprocess\n",
      "_datetime           dask                nntplib             sunau\n",
      "_decimal            dataclasses         notebook            sympy\n",
      "_distutils_hack     datashader          notebook_shim       symtable\n",
      "_elementtree        datashape           nt                  sys\n",
      "_functools          datetime            ntpath              sysconfig\n",
      "_hashlib            dateutil            ntsecuritycon       tables\n",
      "_heapq              dbi                 nturl2path          tabnanny\n",
      "_imp                dbm                 numba               tabulate\n",
      "_io                 dde                 numbergen           tarfile\n",
      "_json               debugpy             numbers             tbb\n",
      "_locale             decimal             numexpr             tblib\n",
      "_lsprof             decorator           numpy               telnetlib\n",
      "_lzma               defusedxml          numpydoc            tempfile\n",
      "_markupbase         diff_match_patch    odbc                tenacity\n",
      "_md5                difflib             onedal              terminado\n",
      "_msi                dill                opcode              test\n",
      "_multibytecodec     dis                 opencensus          test_pycosat\n",
      "_multiprocessing    distlib             openpyxl            text_unidecode\n",
      "_nsis               distributed         operator            textdistance\n",
      "_opcode             distutils           optparse            textwrap\n",
      "_operator           docstring_to_markdown os                  this\n",
      "_osx_support        doctest             packaging           threading\n",
      "_overlapped         docutils            pandas              threadpoolctl\n",
      "_pickle             email               pandocfilters       three_merge\n",
      "_plotly_future_     encodings           panel               tifffile\n",
      "_plotly_utils       ensurepip           param               time\n",
      "_py_abc             entrypoints         paramiko            timeit\n",
      "_pydecimal          enum                parsel              timer\n",
      "_pyio               erfa                parso               tinycss2\n",
      "_pyrsistent_version errno               partd               tkinter\n",
      "_pytest             et_xmlfile          past                tldextract\n",
      "_queue              example             pathlib             tlz\n",
      "_random             executing           pathspec            token\n",
      "_sha1               fastjsonschema      patsy               tokenize\n",
      "_sha256             faulthandler        pdb                 toml\n",
      "_sha3               filecmp             pep8                tomli\n",
      "_sha512             fileinput           perfmon             tomlkit\n",
      "_signal             filelock            pexpect             tomllib\n",
      "_sitebuiltins       flake8              pickle              toolz\n",
      "_socket             flask               pickleshare         tornado\n",
      "_sqlite3            fnmatch             pickletools         tqdm\n",
      "_sre                fontTools           pip                 trace\n",
      "_ssl                fractions           pipes               traceback\n",
      "_stat               frozenlist          pkg_resources       tracemalloc\n",
      "_statistics         fsspec              pkginfo             traitlets\n",
      "_string             ftplib              pkgutil             transformers\n",
      "_strptime           functools           platform            tty\n",
      "_struct             future              platformdirs        turtle\n",
      "_symtable           gc                  playsound           turtledemo\n",
      "_system_path        genericpath         plistlib            twisted\n",
      "_testbuffer         gensim              plotly              types\n",
      "_testcapi           getopt              pluggy              typing\n",
      "_testconsole        getpass             ply                 typing_extensions\n",
      "_testimportmultiple gettext             pooch               tzdata\n",
      "_testinternalcapi   glob                poplib              uc_micro\n",
      "_testmultiphase     glob2               posixpath           ujson\n",
      "_thread             gpustat             poyo                unicodedata\n",
      "_threading_local    graphlib            pprint              unidecode\n",
      "_tkinter            greenlet            profile             unittest\n",
      "_tokenize           grpc                prometheus_client   urllib\n",
      "_tracemalloc        gzip                prompt_toolkit      urllib3\n",
      "_typing             h5py                protego             uu\n",
      "_uuid               hashlib             pstats              uuid\n",
      "_warnings           heapdict            psutil              venv\n",
      "_weakref            heapq               pty                 virtualenv\n",
      "_weakrefset         hmac                ptyprocess          w3lib\n",
      "_win32sysloader     holoviews           pure_eval           warnings\n",
      "_winapi             html                pvectorc            watchdog\n",
      "_winxptheme         html5lib            py                  wave\n",
      "_xxsubinterpreters  http                py_compile          wcwidth\n",
      "_yaml               hvplot              pyarrow             weakref\n",
      "_zoneinfo           hyperlink           pyasn1              webbrowser\n",
      "abc                 idlelib             pyasn1_modules      webencodings\n",
      "adodbapi            idna                pyclbr              websocket\n",
      "afxres              imagecodecs         pycodestyle         werkzeug\n",
      "aifc                imageio             pycosat             whatthepatch\n",
      "aiobotocore         imagesize           pycparser           wheel\n",
      "aiofiles            imaplib             pyct                widgetsnbextension\n",
      "aiohttp             imblearn            pycurl              win2kras\n",
      "aiohttp_cors        imghdr              pydantic            win32api\n",
      "aioitertools        imp                 pydispatch          win32clipboard\n",
      "aiosignal           importlib           pydoc               win32com\n",
      "aiosqlite           importlib_metadata  pydoc_data          win32con\n",
      "alabaster           incremental         pydocstyle          win32console\n",
      "anaconda_catalogs   inflection          pyexpat             win32cred\n",
      "anaconda_navigator  iniconfig           pyflakes            win32crypt\n",
      "anaconda_project    inspect             pyforest            win32cryptcon\n",
      "ansicon             intake              pygments            win32ctypes\n",
      "antigravity         intervaltree        pylab               win32event\n",
      "anyio               io                  pylint              win32evtlog\n",
      "appdirs             ipaddress           pylint_venv         win32evtlogutil\n",
      "argon2              ipykernel           pyls_spyder         win32file\n",
      "argparse            ipykernel_launcher  pylsp               win32gui\n",
      "array               ipython_genutils    pylsp_black         win32gui_struct\n",
      "arrow               ipywidgets          pylsp_jsonrpc       win32help\n",
      "ast                 isapi               pynvml              win32inet\n",
      "astroid             isort               pyodbc              win32inetcon\n",
      "astropy             isympy              pyparsing           win32job\n",
      "asttokens           itemadapter         pyrsistent          win32lz\n",
      "async_timeout       itemloaders         pytest              win32net\n",
      "asynchat            itertools           pythoncom           win32netcon\n",
      "asyncio             itsdangerous        pythonjsonlogger    win32pdh\n",
      "asyncore            jedi                pytoolconfig        win32pdhquery\n",
      "atexit              jellyfish           pytz                win32pdhutil\n",
      "atomicwrites        jinja2              pyviz_comms         win32pipe\n",
      "attr                jinja2_time         pywin               win32print\n",
      "attrs               jinxed              pywin32_bootstrap   win32process\n",
      "audioop             jmespath            pywin32_testutil    win32profile\n",
      "automat             joblib              pywintypes          win32ras\n",
      "autopep8            json                pywt                win32rcparser\n",
      "babel               json5               qdarkstyle          win32security\n",
      "backcall            jsonpatch           qstylizer           win32service\n",
      "backports           jsonpointer         qtawesome           win32serviceutil\n",
      "base64              jsonschema          qtconsole           win32timezone\n",
      "bcrypt              jupyter             qtpy                win32trace\n",
      "bdb                 jupyter_client      queue               win32traceutil\n",
      "binaryornot         jupyter_console     queuelib            win32transaction\n",
      "binascii            jupyter_core        quopri              win32ts\n",
      "binstar_client      jupyter_events      random              win32ui\n",
      "bisect              jupyter_server      rasutil             win32uiole\n",
      "black               jupyter_server_fileid ray                 win32verstamp\n",
      "blackd              jupyter_server_terminals re                  win32wnet\n",
      "bleach              jupyter_server_ydoc regcheck            win_inet_pton\n",
      "blessed             jupyter_ydoc        regex               winerror\n",
      "blib2to3            jupyterlab          regutil             winioctlcon\n",
      "bokeh               jupyterlab_plotly   repo_cli            winnt\n",
      "boltons             jupyterlab_pygments reprlib             winperf\n",
      "boto3               jupyterlab_server   requests            winpty\n",
      "botocore            jupyterlab_widgets  requests_file       winreg\n",
      "bottleneck          jwt                 requests_toolbelt   winsound\n",
      "brotli              keyring             rfc3339_validator   winxpgui\n",
      "bs4                 keyword             rfc3986_validator   winxptheme\n",
      "builtins            kiwisolver          rlcompleter         wrapt\n",
      "bz2                 lazy_loader         rope                wsgiref\n",
      "cProfile            lazy_object_proxy   rsa                 xarray\n",
      "cachetools          lib2to3             rtree               xdrlib\n",
      "calendar            libarchive          ruamel_yaml         xlwings\n",
      "certifi             libfuturize         runpy               xml\n",
      "cffi                libmambapy          s3fs                xmlrpc\n",
      "cgi                 libpasteurize       s3transfer          xxlimited\n",
      "cgitb               lief                sacremoses          xxlimited_35\n",
      "chardet             linecache           sched               xxsubtype\n",
      "charset_normalizer  linkify_it          scipy               xyzservices\n",
      "chunk               llvmlite            scrapy              y_py\n",
      "click               lmdb                seaborn             yaml\n",
      "cloudpickle         locale              secrets             yapf\n",
      "clyent              locket              select              yapftests\n",
      "cmath               logging             selectors           yarl\n",
      "cmd                 lxml                send2trash          ypy_websocket\n",
      "code                lz4                 service_identity    zict\n",
      "codecs              lzma                servicemanager      zipapp\n",
      "codeop              mailbox             setuptools          zipfile\n",
      "collections         mailcap             shelve              zipimport\n",
      "colorama            markdown            shlex               zipp\n",
      "colorcet            markdown_it         shutil              zlib\n",
      "colorful            markupsafe          signal              zmq\n",
      "colorlover          marshal             sipbuild            zoneinfo\n",
      "colorsys            math                site                zope\n",
      "comm                matplotlib          six                 zstandard\n",
      "commctrl            matplotlib_inline   skimage             ~andas\n",
      "compileall          mccabe              sklearn             \n",
      "\n",
      "Enter any module name to get more help.  Or, type \"modules spam\" to search\n",
      "for modules whose name or summary contain the string \"spam\".\n",
      "\n"
     ]
    }
   ],
   "source": [
    "help('modules')"
   ]
  },
  {
   "cell_type": "markdown",
   "id": "dc8ff6b8",
   "metadata": {},
   "source": [
    "# Loops in Python\n",
    "   * Need of loops\n",
    "   * While loop\n",
    "   * For loop"
   ]
  },
  {
   "cell_type": "code",
   "execution_count": 47,
   "id": "19f426bd",
   "metadata": {},
   "outputs": [],
   "source": [
    "# While loop example -> program to print the table\n",
    "# Program -> Sum of all digits of a given number\n",
    "# Program -> keep accepting numbers from users till he/she enters a 0 and then find the avg\n"
   ]
  },
  {
   "cell_type": "code",
   "execution_count": 49,
   "id": "116b9328",
   "metadata": {},
   "outputs": [
    {
     "name": "stdout",
     "output_type": "stream",
     "text": [
      "enter the number : 11\n",
      "11 * 1 = 11\n",
      "11 * 2 = 22\n",
      "11 * 3 = 33\n",
      "11 * 4 = 44\n",
      "11 * 5 = 55\n",
      "11 * 6 = 66\n",
      "11 * 7 = 77\n",
      "11 * 8 = 88\n",
      "11 * 9 = 99\n",
      "11 * 10 = 110\n"
     ]
    }
   ],
   "source": [
    "number = int(input('enter the number : '))\n",
    "\n",
    "i = 1\n",
    "\n",
    "while i < 11 :\n",
    "    print(number,'*',i,'=',number * i)\n",
    "    i += 1"
   ]
  },
  {
   "cell_type": "code",
   "execution_count": 50,
   "id": "39d83fe2",
   "metadata": {},
   "outputs": [
    {
     "name": "stdout",
     "output_type": "stream",
     "text": [
      "1\n",
      "2\n",
      "limit crossed\n"
     ]
    }
   ],
   "source": [
    "# while loop with else\n",
    "\n",
    "x = 1\n",
    "\n",
    "while x < 3:\n",
    "    print(x)\n",
    "    x += 1\n",
    "    \n",
    "else:\n",
    "    print('limit crossed')"
   ]
  },
  {
   "cell_type": "code",
   "execution_count": 53,
   "id": "bb935ad2",
   "metadata": {},
   "outputs": [
    {
     "name": "stdout",
     "output_type": "stream",
     "text": [
      "Guess karo !!7\n",
      "galat !! Guess higher\n",
      "Guess karo !!50\n",
      "galat !! guess lower\n",
      "Guess karo !!30\n",
      "galat !! guess lower\n",
      "Guess karo !!25\n",
      "galat !! guess lower\n",
      "Guess karo !!20\n",
      "galat !! guess lower\n",
      "Guess karo !!15\n",
      "galat !! guess lower\n",
      "Guess karo !!10\n",
      "galat !! Guess higher\n",
      "Guess karo !!11\n",
      "galat !! Guess higher\n",
      "Guess karo !!12\n",
      "correct guess\n",
      "attempts 9\n"
     ]
    }
   ],
   "source": [
    "# Guessing game\n",
    "\n",
    "# generate a random interger between 1 and 100\n",
    "\n",
    "import random\n",
    "\n",
    "jackpot = random.randint(1,100)\n",
    "\n",
    "guess = int(input('Guess karo !!'))\n",
    "counter = 1\n",
    "while guess != jackpot:\n",
    "    if guess < jackpot:\n",
    "        print('galat !! Guess higher')\n",
    "    else:\n",
    "        print('galat !! guess lower')\n",
    "        \n",
    "    guess = int(input('Guess karo !!'))\n",
    "    counter += 1\n",
    "else:\n",
    "    print('correct guess')\n",
    "    print('attempts',counter)"
   ]
  },
  {
   "cell_type": "code",
   "execution_count": 55,
   "id": "a072f8b5",
   "metadata": {},
   "outputs": [
    {
     "name": "stdout",
     "output_type": "stream",
     "text": [
      "1\n",
      "2\n",
      "3\n",
      "4\n",
      "5\n",
      "6\n",
      "7\n",
      "8\n",
      "9\n",
      "10\n"
     ]
    }
   ],
   "source": [
    "# for loop demo\n",
    "\n",
    "for i in range(1,11):\n",
    "    print(i)"
   ]
  },
  {
   "cell_type": "code",
   "execution_count": 56,
   "id": "1849b27e",
   "metadata": {},
   "outputs": [
    {
     "name": "stdout",
     "output_type": "stream",
     "text": [
      "1\n",
      "3\n",
      "5\n",
      "7\n",
      "9\n"
     ]
    }
   ],
   "source": [
    "for i in range(1,11,2):\n",
    "    print(i)"
   ]
  },
  {
   "cell_type": "code",
   "execution_count": 57,
   "id": "95c51c45",
   "metadata": {},
   "outputs": [
    {
     "name": "stdout",
     "output_type": "stream",
     "text": [
      "1\n",
      "5\n",
      "9\n"
     ]
    }
   ],
   "source": [
    "for i in range(1,11,4):\n",
    "    print(i)"
   ]
  },
  {
   "cell_type": "code",
   "execution_count": 58,
   "id": "98f8a047",
   "metadata": {},
   "outputs": [
    {
     "name": "stdout",
     "output_type": "stream",
     "text": [
      "10\n",
      "9\n",
      "8\n",
      "7\n",
      "6\n",
      "5\n",
      "4\n",
      "3\n",
      "2\n",
      "1\n"
     ]
    }
   ],
   "source": [
    "for i in range(10,0,-1):\n",
    "    print(i)"
   ]
  },
  {
   "cell_type": "code",
   "execution_count": 59,
   "id": "44328dff",
   "metadata": {},
   "outputs": [
    {
     "name": "stdout",
     "output_type": "stream",
     "text": [
      "D\n",
      "e\n",
      "l\n",
      "h\n",
      "i\n"
     ]
    }
   ],
   "source": [
    "for i in 'Delhi':\n",
    "    print(i)"
   ]
  },
  {
   "cell_type": "code",
   "execution_count": 60,
   "id": "6c0c1321",
   "metadata": {},
   "outputs": [
    {
     "name": "stdout",
     "output_type": "stream",
     "text": [
      "1\n",
      "2\n",
      "3\n",
      "4\n",
      "5\n"
     ]
    }
   ],
   "source": [
    "for i in [1,2,3,4,5]:\n",
    "    print(i)"
   ]
  },
  {
   "cell_type": "code",
   "execution_count": 61,
   "id": "77f85328",
   "metadata": {},
   "outputs": [
    {
     "name": "stdout",
     "output_type": "stream",
     "text": [
      "1\n",
      "2\n",
      "3\n",
      "4\n",
      "5\n"
     ]
    }
   ],
   "source": [
    "for i in (1,2,3,4,5):\n",
    "    print(i)"
   ]
  },
  {
   "cell_type": "code",
   "execution_count": 62,
   "id": "aa537d13",
   "metadata": {},
   "outputs": [
    {
     "name": "stdout",
     "output_type": "stream",
     "text": [
      "1\n",
      "2\n",
      "3\n",
      "4\n",
      "5\n"
     ]
    }
   ],
   "source": [
    "for i in {1,2,3,4,5}:\n",
    "    print(i)"
   ]
  },
  {
   "cell_type": "markdown",
   "id": "d7d19b08",
   "metadata": {},
   "source": [
    "Program - The current population of a town is 10000. The population of the town is increasing at the rate of 10% each year. You have to write a program to find out the population at the end of each of the last 10 years."
   ]
  },
  {
   "cell_type": "code",
   "execution_count": 63,
   "id": "2c562960",
   "metadata": {},
   "outputs": [
    {
     "name": "stdout",
     "output_type": "stream",
     "text": [
      "10 10000\n",
      "9 9000.0\n",
      "8 8100.0\n",
      "7 7290.0\n",
      "6 6561.0\n",
      "5 5904.9\n",
      "4 5314.41\n",
      "3 4782.969\n",
      "2 4304.6721\n",
      "1 3874.20489\n"
     ]
    }
   ],
   "source": [
    "curr_pop = 10000\n",
    "\n",
    "for i in range(10,0,-1):\n",
    "    print(i,curr_pop)\n",
    "    curr_pop = curr_pop - 0.1*curr_pop"
   ]
  },
  {
   "cell_type": "code",
   "execution_count": null,
   "id": "eeb720f1",
   "metadata": {},
   "outputs": [],
   "source": []
  }
 ],
 "metadata": {
  "kernelspec": {
   "display_name": "Python 3 (ipykernel)",
   "language": "python",
   "name": "python3"
  },
  "language_info": {
   "codemirror_mode": {
    "name": "ipython",
    "version": 3
   },
   "file_extension": ".py",
   "mimetype": "text/x-python",
   "name": "python",
   "nbconvert_exporter": "python",
   "pygments_lexer": "ipython3",
   "version": "3.11.3"
  }
 },
 "nbformat": 4,
 "nbformat_minor": 5
}
